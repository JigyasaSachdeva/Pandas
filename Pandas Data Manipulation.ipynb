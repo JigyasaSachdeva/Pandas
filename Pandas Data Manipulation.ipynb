{
 "cells": [
  {
   "cell_type": "code",
   "execution_count": 1,
   "metadata": {},
   "outputs": [
    {
     "data": {
      "text/plain": [
       "{'first': 'Jigyasa',\n",
       " 'last': 'Sachdeva',\n",
       " 'email': 'jigyasa.sachdeva24@gmail.com'}"
      ]
     },
     "execution_count": 1,
     "metadata": {},
     "output_type": "execute_result"
    }
   ],
   "source": [
    "person = {\n",
    "\"first\": \"Jigyasa\",\n",
    "\"last\": \"Sachdeva\",\n",
    "\"email\": \"jigyasa.sachdeva24@gmail.com\"\n",
    "}\n",
    "\n",
    "#Dictionary\n",
    "#Key-value pair\n",
    "person"
   ]
  },
  {
   "cell_type": "code",
   "execution_count": 2,
   "metadata": {},
   "outputs": [
    {
     "data": {
      "text/plain": [
       "{'first': ['Jigyasa', 'Varun', 'Chirag'],\n",
       " 'last': ['Sachdeva', 'Maheshwari', 'Ahluwalia'],\n",
       " 'email': ['jigyasa.sachdeva24@gmail.com', 'vm@gmail.com', 'ca@gmail.com']}"
      ]
     },
     "execution_count": 2,
     "metadata": {},
     "output_type": "execute_result"
    }
   ],
   "source": [
    "people = {\n",
    "\"first\": [\"Jigyasa\", \"Varun\", \"Chirag\"],\n",
    "\"last\": [\"Sachdeva\",\"Maheshwari\", \"Ahluwalia\"],\n",
    "\"email\": [\"jigyasa.sachdeva24@gmail.com\", \"vm@gmail.com\", \"ca@gmail.com\"]\n",
    "}\n",
    "\n",
    "#List\n",
    "people"
   ]
  },
  {
   "cell_type": "code",
   "execution_count": 3,
   "metadata": {},
   "outputs": [
    {
     "data": {
      "text/plain": [
       "['jigyasa.sachdeva24@gmail.com', 'vm@gmail.com', 'ca@gmail.com']"
      ]
     },
     "execution_count": 3,
     "metadata": {},
     "output_type": "execute_result"
    }
   ],
   "source": [
    "people['email']\n",
    "#Accessing email key"
   ]
  },
  {
   "cell_type": "code",
   "execution_count": 4,
   "metadata": {},
   "outputs": [
    {
     "data": {
      "text/html": [
       "<div>\n",
       "<style scoped>\n",
       "    .dataframe tbody tr th:only-of-type {\n",
       "        vertical-align: middle;\n",
       "    }\n",
       "\n",
       "    .dataframe tbody tr th {\n",
       "        vertical-align: top;\n",
       "    }\n",
       "\n",
       "    .dataframe thead th {\n",
       "        text-align: right;\n",
       "    }\n",
       "</style>\n",
       "<table border=\"1\" class=\"dataframe\">\n",
       "  <thead>\n",
       "    <tr style=\"text-align: right;\">\n",
       "      <th></th>\n",
       "      <th>first</th>\n",
       "      <th>last</th>\n",
       "      <th>email</th>\n",
       "    </tr>\n",
       "  </thead>\n",
       "  <tbody>\n",
       "    <tr>\n",
       "      <th>0</th>\n",
       "      <td>Jigyasa</td>\n",
       "      <td>Sachdeva</td>\n",
       "      <td>jigyasa.sachdeva24@gmail.com</td>\n",
       "    </tr>\n",
       "    <tr>\n",
       "      <th>1</th>\n",
       "      <td>Varun</td>\n",
       "      <td>Maheshwari</td>\n",
       "      <td>vm@gmail.com</td>\n",
       "    </tr>\n",
       "    <tr>\n",
       "      <th>2</th>\n",
       "      <td>Chirag</td>\n",
       "      <td>Ahluwalia</td>\n",
       "      <td>ca@gmail.com</td>\n",
       "    </tr>\n",
       "  </tbody>\n",
       "</table>\n",
       "</div>"
      ],
      "text/plain": [
       "     first        last                         email\n",
       "0  Jigyasa    Sachdeva  jigyasa.sachdeva24@gmail.com\n",
       "1    Varun  Maheshwari                  vm@gmail.com\n",
       "2   Chirag   Ahluwalia                  ca@gmail.com"
      ]
     },
     "execution_count": 4,
     "metadata": {},
     "output_type": "execute_result"
    }
   ],
   "source": [
    "import pandas as pd\n",
    "df = pd.DataFrame(people)\n",
    "#data frame from list of objects\n",
    "df"
   ]
  },
  {
   "cell_type": "code",
   "execution_count": 5,
   "metadata": {},
   "outputs": [
    {
     "data": {
      "text/plain": [
       "0    jigyasa.sachdeva24@gmail.com\n",
       "1                    vm@gmail.com\n",
       "2                    ca@gmail.com\n",
       "Name: email, dtype: object"
      ]
     },
     "execution_count": 5,
     "metadata": {},
     "output_type": "execute_result"
    }
   ],
   "source": [
    "df['email']\n",
    "#Shows series rather than series"
   ]
  },
  {
   "cell_type": "code",
   "execution_count": 6,
   "metadata": {},
   "outputs": [
    {
     "data": {
      "text/plain": [
       "pandas.core.series.Series"
      ]
     },
     "execution_count": 6,
     "metadata": {},
     "output_type": "execute_result"
    }
   ],
   "source": [
    "type(df['email'])\n",
    "#Series object: just like list with better functionality\n",
    "#Data Frame is a container for series\n",
    "#has index just like data frame"
   ]
  },
  {
   "cell_type": "code",
   "execution_count": 7,
   "metadata": {},
   "outputs": [
    {
     "data": {
      "text/plain": [
       "0    jigyasa.sachdeva24@gmail.com\n",
       "1                    vm@gmail.com\n",
       "2                    ca@gmail.com\n",
       "Name: email, dtype: object"
      ]
     },
     "execution_count": 7,
     "metadata": {},
     "output_type": "execute_result"
    }
   ],
   "source": [
    "df.email\n",
    "#Can be done by using the ."
   ]
  },
  {
   "cell_type": "code",
   "execution_count": 8,
   "metadata": {},
   "outputs": [
    {
     "data": {
      "text/plain": [
       "pandas.core.series.Series"
      ]
     },
     "execution_count": 8,
     "metadata": {},
     "output_type": "execute_result"
    }
   ],
   "source": [
    "type(df.email)\n",
    "#Also a series"
   ]
  },
  {
   "cell_type": "code",
   "execution_count": 9,
   "metadata": {},
   "outputs": [],
   "source": [
    "#We prefer [''] version because . notation can access functions and columns both\n",
    "# If there is a column called count, it will refer the function count"
   ]
  },
  {
   "cell_type": "code",
   "execution_count": 10,
   "metadata": {},
   "outputs": [
    {
     "data": {
      "text/html": [
       "<div>\n",
       "<style scoped>\n",
       "    .dataframe tbody tr th:only-of-type {\n",
       "        vertical-align: middle;\n",
       "    }\n",
       "\n",
       "    .dataframe tbody tr th {\n",
       "        vertical-align: top;\n",
       "    }\n",
       "\n",
       "    .dataframe thead th {\n",
       "        text-align: right;\n",
       "    }\n",
       "</style>\n",
       "<table border=\"1\" class=\"dataframe\">\n",
       "  <thead>\n",
       "    <tr style=\"text-align: right;\">\n",
       "      <th></th>\n",
       "      <th>email</th>\n",
       "      <th>first</th>\n",
       "    </tr>\n",
       "  </thead>\n",
       "  <tbody>\n",
       "    <tr>\n",
       "      <th>0</th>\n",
       "      <td>jigyasa.sachdeva24@gmail.com</td>\n",
       "      <td>Jigyasa</td>\n",
       "    </tr>\n",
       "    <tr>\n",
       "      <th>1</th>\n",
       "      <td>vm@gmail.com</td>\n",
       "      <td>Varun</td>\n",
       "    </tr>\n",
       "    <tr>\n",
       "      <th>2</th>\n",
       "      <td>ca@gmail.com</td>\n",
       "      <td>Chirag</td>\n",
       "    </tr>\n",
       "  </tbody>\n",
       "</table>\n",
       "</div>"
      ],
      "text/plain": [
       "                          email    first\n",
       "0  jigyasa.sachdeva24@gmail.com  Jigyasa\n",
       "1                  vm@gmail.com    Varun\n",
       "2                  ca@gmail.com   Chirag"
      ]
     },
     "execution_count": 10,
     "metadata": {},
     "output_type": "execute_result"
    }
   ],
   "source": [
    "df[['email', 'first']]\n",
    "#['email', 'first']: refers to a list being passed"
   ]
  },
  {
   "cell_type": "code",
   "execution_count": 11,
   "metadata": {},
   "outputs": [
    {
     "data": {
      "text/html": [
       "<div>\n",
       "<style scoped>\n",
       "    .dataframe tbody tr th:only-of-type {\n",
       "        vertical-align: middle;\n",
       "    }\n",
       "\n",
       "    .dataframe tbody tr th {\n",
       "        vertical-align: top;\n",
       "    }\n",
       "\n",
       "    .dataframe thead th {\n",
       "        text-align: right;\n",
       "    }\n",
       "</style>\n",
       "<table border=\"1\" class=\"dataframe\">\n",
       "  <thead>\n",
       "    <tr style=\"text-align: right;\">\n",
       "      <th></th>\n",
       "      <th>email</th>\n",
       "      <th>first</th>\n",
       "    </tr>\n",
       "  </thead>\n",
       "  <tbody>\n",
       "    <tr>\n",
       "      <th>0</th>\n",
       "      <td>jigyasa.sachdeva24@gmail.com</td>\n",
       "      <td>Jigyasa</td>\n",
       "    </tr>\n",
       "    <tr>\n",
       "      <th>1</th>\n",
       "      <td>vm@gmail.com</td>\n",
       "      <td>Varun</td>\n",
       "    </tr>\n",
       "    <tr>\n",
       "      <th>2</th>\n",
       "      <td>ca@gmail.com</td>\n",
       "      <td>Chirag</td>\n",
       "    </tr>\n",
       "  </tbody>\n",
       "</table>\n",
       "</div>"
      ],
      "text/plain": [
       "                          email    first\n",
       "0  jigyasa.sachdeva24@gmail.com  Jigyasa\n",
       "1                  vm@gmail.com    Varun\n",
       "2                  ca@gmail.com   Chirag"
      ]
     },
     "execution_count": 11,
     "metadata": {},
     "output_type": "execute_result"
    }
   ],
   "source": [
    "a = ['email', 'first']\n",
    "#Making a list\n",
    "df[a]\n",
    "#Passing the list: same thing"
   ]
  },
  {
   "cell_type": "code",
   "execution_count": 12,
   "metadata": {},
   "outputs": [
    {
     "data": {
      "text/plain": [
       "Index(['first', 'last', 'email'], dtype='object')"
      ]
     },
     "execution_count": 12,
     "metadata": {},
     "output_type": "execute_result"
    }
   ],
   "source": [
    "df.columns\n",
    "#Gives us our columns"
   ]
  },
  {
   "cell_type": "code",
   "execution_count": 13,
   "metadata": {},
   "outputs": [
    {
     "data": {
      "text/plain": [
       "first                         Jigyasa\n",
       "last                         Sachdeva\n",
       "email    jigyasa.sachdeva24@gmail.com\n",
       "Name: 0, dtype: object"
      ]
     },
     "execution_count": 13,
     "metadata": {},
     "output_type": "execute_result"
    }
   ],
   "source": [
    "#For rows: loc and iloc\n",
    "#loc: by labels\n",
    "#iloc: integer location\n",
    "df.iloc[0] #First"
   ]
  },
  {
   "cell_type": "code",
   "execution_count": 14,
   "metadata": {},
   "outputs": [
    {
     "data": {
      "text/plain": [
       "'Sachdeva'"
      ]
     },
     "execution_count": 14,
     "metadata": {},
     "output_type": "execute_result"
    }
   ],
   "source": [
    "df.iloc[0,1]\n",
    "#0th row, 1st column -> Index"
   ]
  },
  {
   "cell_type": "code",
   "execution_count": 15,
   "metadata": {},
   "outputs": [
    {
     "data": {
      "text/html": [
       "<div>\n",
       "<style scoped>\n",
       "    .dataframe tbody tr th:only-of-type {\n",
       "        vertical-align: middle;\n",
       "    }\n",
       "\n",
       "    .dataframe tbody tr th {\n",
       "        vertical-align: top;\n",
       "    }\n",
       "\n",
       "    .dataframe thead th {\n",
       "        text-align: right;\n",
       "    }\n",
       "</style>\n",
       "<table border=\"1\" class=\"dataframe\">\n",
       "  <thead>\n",
       "    <tr style=\"text-align: right;\">\n",
       "      <th></th>\n",
       "      <th>first</th>\n",
       "      <th>last</th>\n",
       "      <th>email</th>\n",
       "    </tr>\n",
       "  </thead>\n",
       "  <tbody>\n",
       "    <tr>\n",
       "      <th>0</th>\n",
       "      <td>Jigyasa</td>\n",
       "      <td>Sachdeva</td>\n",
       "      <td>jigyasa.sachdeva24@gmail.com</td>\n",
       "    </tr>\n",
       "    <tr>\n",
       "      <th>1</th>\n",
       "      <td>Varun</td>\n",
       "      <td>Maheshwari</td>\n",
       "      <td>vm@gmail.com</td>\n",
       "    </tr>\n",
       "  </tbody>\n",
       "</table>\n",
       "</div>"
      ],
      "text/plain": [
       "     first        last                         email\n",
       "0  Jigyasa    Sachdeva  jigyasa.sachdeva24@gmail.com\n",
       "1    Varun  Maheshwari                  vm@gmail.com"
      ]
     },
     "execution_count": 15,
     "metadata": {},
     "output_type": "execute_result"
    }
   ],
   "source": [
    "df.iloc[[0,1]]\n",
    "#Passing a list of indexes: 0 and 1 row indexes"
   ]
  },
  {
   "cell_type": "code",
   "execution_count": 16,
   "metadata": {},
   "outputs": [
    {
     "data": {
      "text/html": [
       "<div>\n",
       "<style scoped>\n",
       "    .dataframe tbody tr th:only-of-type {\n",
       "        vertical-align: middle;\n",
       "    }\n",
       "\n",
       "    .dataframe tbody tr th {\n",
       "        vertical-align: top;\n",
       "    }\n",
       "\n",
       "    .dataframe thead th {\n",
       "        text-align: right;\n",
       "    }\n",
       "</style>\n",
       "<table border=\"1\" class=\"dataframe\">\n",
       "  <thead>\n",
       "    <tr style=\"text-align: right;\">\n",
       "      <th></th>\n",
       "      <th>first</th>\n",
       "      <th>last</th>\n",
       "    </tr>\n",
       "  </thead>\n",
       "  <tbody>\n",
       "    <tr>\n",
       "      <th>1</th>\n",
       "      <td>Varun</td>\n",
       "      <td>Maheshwari</td>\n",
       "    </tr>\n",
       "    <tr>\n",
       "      <th>2</th>\n",
       "      <td>Chirag</td>\n",
       "      <td>Ahluwalia</td>\n",
       "    </tr>\n",
       "  </tbody>\n",
       "</table>\n",
       "</div>"
      ],
      "text/plain": [
       "    first        last\n",
       "1   Varun  Maheshwari\n",
       "2  Chirag   Ahluwalia"
      ]
     },
     "execution_count": 16,
     "metadata": {},
     "output_type": "execute_result"
    }
   ],
   "source": [
    "df.iloc[[1,2], [0,1]]\n",
    "#Syntax: df.iloc[ [rows indexes] , [columns indexes] ]"
   ]
  },
  {
   "cell_type": "code",
   "execution_count": 17,
   "metadata": {},
   "outputs": [
    {
     "data": {
      "text/html": [
       "<div>\n",
       "<style scoped>\n",
       "    .dataframe tbody tr th:only-of-type {\n",
       "        vertical-align: middle;\n",
       "    }\n",
       "\n",
       "    .dataframe tbody tr th {\n",
       "        vertical-align: top;\n",
       "    }\n",
       "\n",
       "    .dataframe thead th {\n",
       "        text-align: right;\n",
       "    }\n",
       "</style>\n",
       "<table border=\"1\" class=\"dataframe\">\n",
       "  <thead>\n",
       "    <tr style=\"text-align: right;\">\n",
       "      <th></th>\n",
       "      <th>email</th>\n",
       "    </tr>\n",
       "  </thead>\n",
       "  <tbody>\n",
       "    <tr>\n",
       "      <th>1</th>\n",
       "      <td>vm@gmail.com</td>\n",
       "    </tr>\n",
       "    <tr>\n",
       "      <th>2</th>\n",
       "      <td>ca@gmail.com</td>\n",
       "    </tr>\n",
       "  </tbody>\n",
       "</table>\n",
       "</div>"
      ],
      "text/plain": [
       "          email\n",
       "1  vm@gmail.com\n",
       "2  ca@gmail.com"
      ]
     },
     "execution_count": 17,
     "metadata": {},
     "output_type": "execute_result"
    }
   ],
   "source": [
    "df.iloc[[1,2], [2]]"
   ]
  },
  {
   "cell_type": "code",
   "execution_count": 18,
   "metadata": {},
   "outputs": [
    {
     "data": {
      "text/html": [
       "<div>\n",
       "<style scoped>\n",
       "    .dataframe tbody tr th:only-of-type {\n",
       "        vertical-align: middle;\n",
       "    }\n",
       "\n",
       "    .dataframe tbody tr th {\n",
       "        vertical-align: top;\n",
       "    }\n",
       "\n",
       "    .dataframe thead th {\n",
       "        text-align: right;\n",
       "    }\n",
       "</style>\n",
       "<table border=\"1\" class=\"dataframe\">\n",
       "  <thead>\n",
       "    <tr style=\"text-align: right;\">\n",
       "      <th></th>\n",
       "      <th>email</th>\n",
       "      <th>last</th>\n",
       "    </tr>\n",
       "  </thead>\n",
       "  <tbody>\n",
       "    <tr>\n",
       "      <th>0</th>\n",
       "      <td>jigyasa.sachdeva24@gmail.com</td>\n",
       "      <td>Sachdeva</td>\n",
       "    </tr>\n",
       "    <tr>\n",
       "      <th>1</th>\n",
       "      <td>vm@gmail.com</td>\n",
       "      <td>Maheshwari</td>\n",
       "    </tr>\n",
       "  </tbody>\n",
       "</table>\n",
       "</div>"
      ],
      "text/plain": [
       "                          email        last\n",
       "0  jigyasa.sachdeva24@gmail.com    Sachdeva\n",
       "1                  vm@gmail.com  Maheshwari"
      ]
     },
     "execution_count": 18,
     "metadata": {},
     "output_type": "execute_result"
    }
   ],
   "source": [
    "df.loc[[0,1],['email', 'last']]\n",
    "#loc can be used to pass labels of columns names"
   ]
  },
  {
   "cell_type": "code",
   "execution_count": 19,
   "metadata": {},
   "outputs": [
    {
     "data": {
      "text/html": [
       "<div>\n",
       "<style scoped>\n",
       "    .dataframe tbody tr th:only-of-type {\n",
       "        vertical-align: middle;\n",
       "    }\n",
       "\n",
       "    .dataframe tbody tr th {\n",
       "        vertical-align: top;\n",
       "    }\n",
       "\n",
       "    .dataframe thead th {\n",
       "        text-align: right;\n",
       "    }\n",
       "</style>\n",
       "<table border=\"1\" class=\"dataframe\">\n",
       "  <thead>\n",
       "    <tr style=\"text-align: right;\">\n",
       "      <th></th>\n",
       "      <th>first</th>\n",
       "      <th>last</th>\n",
       "    </tr>\n",
       "    <tr>\n",
       "      <th>email</th>\n",
       "      <th></th>\n",
       "      <th></th>\n",
       "    </tr>\n",
       "  </thead>\n",
       "  <tbody>\n",
       "    <tr>\n",
       "      <th>jigyasa.sachdeva24@gmail.com</th>\n",
       "      <td>Jigyasa</td>\n",
       "      <td>Sachdeva</td>\n",
       "    </tr>\n",
       "    <tr>\n",
       "      <th>vm@gmail.com</th>\n",
       "      <td>Varun</td>\n",
       "      <td>Maheshwari</td>\n",
       "    </tr>\n",
       "    <tr>\n",
       "      <th>ca@gmail.com</th>\n",
       "      <td>Chirag</td>\n",
       "      <td>Ahluwalia</td>\n",
       "    </tr>\n",
       "  </tbody>\n",
       "</table>\n",
       "</div>"
      ],
      "text/plain": [
       "                                first        last\n",
       "email                                            \n",
       "jigyasa.sachdeva24@gmail.com  Jigyasa    Sachdeva\n",
       "vm@gmail.com                    Varun  Maheshwari\n",
       "ca@gmail.com                   Chirag   Ahluwalia"
      ]
     },
     "execution_count": 19,
     "metadata": {},
     "output_type": "execute_result"
    }
   ],
   "source": [
    "#setting a column as index/primary key for the table\n",
    "df.set_index('email')\n",
    "#email is far left and bold: index\n",
    "\n",
    "#This would set the index as email temporarily and would change back if we print df"
   ]
  },
  {
   "cell_type": "code",
   "execution_count": 20,
   "metadata": {},
   "outputs": [
    {
     "data": {
      "text/html": [
       "<div>\n",
       "<style scoped>\n",
       "    .dataframe tbody tr th:only-of-type {\n",
       "        vertical-align: middle;\n",
       "    }\n",
       "\n",
       "    .dataframe tbody tr th {\n",
       "        vertical-align: top;\n",
       "    }\n",
       "\n",
       "    .dataframe thead th {\n",
       "        text-align: right;\n",
       "    }\n",
       "</style>\n",
       "<table border=\"1\" class=\"dataframe\">\n",
       "  <thead>\n",
       "    <tr style=\"text-align: right;\">\n",
       "      <th></th>\n",
       "      <th>first</th>\n",
       "      <th>last</th>\n",
       "    </tr>\n",
       "    <tr>\n",
       "      <th>email</th>\n",
       "      <th></th>\n",
       "      <th></th>\n",
       "    </tr>\n",
       "  </thead>\n",
       "  <tbody>\n",
       "    <tr>\n",
       "      <th>jigyasa.sachdeva24@gmail.com</th>\n",
       "      <td>Jigyasa</td>\n",
       "      <td>Sachdeva</td>\n",
       "    </tr>\n",
       "    <tr>\n",
       "      <th>vm@gmail.com</th>\n",
       "      <td>Varun</td>\n",
       "      <td>Maheshwari</td>\n",
       "    </tr>\n",
       "    <tr>\n",
       "      <th>ca@gmail.com</th>\n",
       "      <td>Chirag</td>\n",
       "      <td>Ahluwalia</td>\n",
       "    </tr>\n",
       "  </tbody>\n",
       "</table>\n",
       "</div>"
      ],
      "text/plain": [
       "                                first        last\n",
       "email                                            \n",
       "jigyasa.sachdeva24@gmail.com  Jigyasa    Sachdeva\n",
       "vm@gmail.com                    Varun  Maheshwari\n",
       "ca@gmail.com                   Chirag   Ahluwalia"
      ]
     },
     "execution_count": 20,
     "metadata": {},
     "output_type": "execute_result"
    }
   ],
   "source": [
    "df.set_index('email', inplace = True)\n",
    "df"
   ]
  },
  {
   "cell_type": "code",
   "execution_count": 21,
   "metadata": {},
   "outputs": [
    {
     "data": {
      "text/plain": [
       "Index(['jigyasa.sachdeva24@gmail.com', 'vm@gmail.com', 'ca@gmail.com'], dtype='object', name='email')"
      ]
     },
     "execution_count": 21,
     "metadata": {},
     "output_type": "execute_result"
    }
   ],
   "source": [
    "df.index\n",
    "#Indexes as list, name givem"
   ]
  },
  {
   "cell_type": "code",
   "execution_count": 22,
   "metadata": {},
   "outputs": [
    {
     "data": {
      "text/plain": [
       "first     Jigyasa\n",
       "last     Sachdeva\n",
       "Name: jigyasa.sachdeva24@gmail.com, dtype: object"
      ]
     },
     "execution_count": 22,
     "metadata": {},
     "output_type": "execute_result"
    }
   ],
   "source": [
    "df.loc['jigyasa.sachdeva24@gmail.com']\n",
    "#Now emails are used in place of index"
   ]
  },
  {
   "cell_type": "code",
   "execution_count": 23,
   "metadata": {},
   "outputs": [
    {
     "data": {
      "text/plain": [
       "first     Jigyasa\n",
       "last     Sachdeva\n",
       "Name: jigyasa.sachdeva24@gmail.com, dtype: object"
      ]
     },
     "execution_count": 23,
     "metadata": {},
     "output_type": "execute_result"
    }
   ],
   "source": [
    "df.iloc[0]\n",
    "#iloc is integer ALWAYS"
   ]
  },
  {
   "cell_type": "code",
   "execution_count": 24,
   "metadata": {},
   "outputs": [],
   "source": [
    "df.reset_index(inplace=True)"
   ]
  },
  {
   "cell_type": "code",
   "execution_count": 25,
   "metadata": {},
   "outputs": [
    {
     "data": {
      "text/html": [
       "<div>\n",
       "<style scoped>\n",
       "    .dataframe tbody tr th:only-of-type {\n",
       "        vertical-align: middle;\n",
       "    }\n",
       "\n",
       "    .dataframe tbody tr th {\n",
       "        vertical-align: top;\n",
       "    }\n",
       "\n",
       "    .dataframe thead th {\n",
       "        text-align: right;\n",
       "    }\n",
       "</style>\n",
       "<table border=\"1\" class=\"dataframe\">\n",
       "  <thead>\n",
       "    <tr style=\"text-align: right;\">\n",
       "      <th></th>\n",
       "      <th>email</th>\n",
       "      <th>first</th>\n",
       "      <th>last</th>\n",
       "    </tr>\n",
       "  </thead>\n",
       "  <tbody>\n",
       "    <tr>\n",
       "      <th>0</th>\n",
       "      <td>jigyasa.sachdeva24@gmail.com</td>\n",
       "      <td>Jigyasa</td>\n",
       "      <td>Sachdeva</td>\n",
       "    </tr>\n",
       "    <tr>\n",
       "      <th>1</th>\n",
       "      <td>vm@gmail.com</td>\n",
       "      <td>Varun</td>\n",
       "      <td>Maheshwari</td>\n",
       "    </tr>\n",
       "    <tr>\n",
       "      <th>2</th>\n",
       "      <td>ca@gmail.com</td>\n",
       "      <td>Chirag</td>\n",
       "      <td>Ahluwalia</td>\n",
       "    </tr>\n",
       "  </tbody>\n",
       "</table>\n",
       "</div>"
      ],
      "text/plain": [
       "                          email    first        last\n",
       "0  jigyasa.sachdeva24@gmail.com  Jigyasa    Sachdeva\n",
       "1                  vm@gmail.com    Varun  Maheshwari\n",
       "2                  ca@gmail.com   Chirag   Ahluwalia"
      ]
     },
     "execution_count": 25,
     "metadata": {},
     "output_type": "execute_result"
    }
   ],
   "source": [
    "df"
   ]
  },
  {
   "cell_type": "code",
   "execution_count": 26,
   "metadata": {},
   "outputs": [],
   "source": [
    "people = {\n",
    "\"first\": [\"Jigyasa\", \"Deepanshu\",\"Varun\", \"Chirag\"],\n",
    "\"last\": [\"Sachdeva\",\"Sachdeva\",\"Maheshwari\", \"Ahluwalia\"],\n",
    "\"email\": [\"jigyasa.sachdeva24@gmail.com\", \"ds@gmail.com\",\"vm@gmail.com\", \"ca@gmail.com\"]\n",
    "}\n"
   ]
  },
  {
   "cell_type": "code",
   "execution_count": 27,
   "metadata": {},
   "outputs": [
    {
     "data": {
      "text/plain": [
       "0     True\n",
       "1     True\n",
       "2    False\n",
       "3    False\n",
       "Name: last, dtype: bool"
      ]
     },
     "execution_count": 27,
     "metadata": {},
     "output_type": "execute_result"
    }
   ],
   "source": [
    "df= pd.DataFrame(people)\n",
    "#Creating filters\n",
    "\n",
    "df['last']=='Sachdeva'\n",
    "#Last name with Sachdeva"
   ]
  },
  {
   "cell_type": "code",
   "execution_count": 28,
   "metadata": {},
   "outputs": [
    {
     "data": {
      "text/html": [
       "<div>\n",
       "<style scoped>\n",
       "    .dataframe tbody tr th:only-of-type {\n",
       "        vertical-align: middle;\n",
       "    }\n",
       "\n",
       "    .dataframe tbody tr th {\n",
       "        vertical-align: top;\n",
       "    }\n",
       "\n",
       "    .dataframe thead th {\n",
       "        text-align: right;\n",
       "    }\n",
       "</style>\n",
       "<table border=\"1\" class=\"dataframe\">\n",
       "  <thead>\n",
       "    <tr style=\"text-align: right;\">\n",
       "      <th></th>\n",
       "      <th>first</th>\n",
       "      <th>last</th>\n",
       "      <th>email</th>\n",
       "    </tr>\n",
       "  </thead>\n",
       "  <tbody>\n",
       "    <tr>\n",
       "      <th>0</th>\n",
       "      <td>Jigyasa</td>\n",
       "      <td>Sachdeva</td>\n",
       "      <td>jigyasa.sachdeva24@gmail.com</td>\n",
       "    </tr>\n",
       "    <tr>\n",
       "      <th>1</th>\n",
       "      <td>Deepanshu</td>\n",
       "      <td>Sachdeva</td>\n",
       "      <td>ds@gmail.com</td>\n",
       "    </tr>\n",
       "  </tbody>\n",
       "</table>\n",
       "</div>"
      ],
      "text/plain": [
       "       first      last                         email\n",
       "0    Jigyasa  Sachdeva  jigyasa.sachdeva24@gmail.com\n",
       "1  Deepanshu  Sachdeva                  ds@gmail.com"
      ]
     },
     "execution_count": 28,
     "metadata": {},
     "output_type": "execute_result"
    }
   ],
   "source": [
    "filter1 = df['last']=='Sachdeva'\n",
    "df[filter1]\n",
    "#OR\n",
    "# df[df['last']=='Sachdeva']"
   ]
  },
  {
   "cell_type": "code",
   "execution_count": 29,
   "metadata": {},
   "outputs": [
    {
     "data": {
      "text/html": [
       "<div>\n",
       "<style scoped>\n",
       "    .dataframe tbody tr th:only-of-type {\n",
       "        vertical-align: middle;\n",
       "    }\n",
       "\n",
       "    .dataframe tbody tr th {\n",
       "        vertical-align: top;\n",
       "    }\n",
       "\n",
       "    .dataframe thead th {\n",
       "        text-align: right;\n",
       "    }\n",
       "</style>\n",
       "<table border=\"1\" class=\"dataframe\">\n",
       "  <thead>\n",
       "    <tr style=\"text-align: right;\">\n",
       "      <th></th>\n",
       "      <th>email</th>\n",
       "    </tr>\n",
       "  </thead>\n",
       "  <tbody>\n",
       "    <tr>\n",
       "      <th>0</th>\n",
       "      <td>jigyasa.sachdeva24@gmail.com</td>\n",
       "    </tr>\n",
       "  </tbody>\n",
       "</table>\n",
       "</div>"
      ],
      "text/plain": [
       "                          email\n",
       "0  jigyasa.sachdeva24@gmail.com"
      ]
     },
     "execution_count": 29,
     "metadata": {},
     "output_type": "execute_result"
    }
   ],
   "source": [
    "df.loc[ df['first']=='Jigyasa' , ['email']]\n",
    "#Rows: df['first']=='Jigyasa'\n",
    "#Columns: ['email']"
   ]
  },
  {
   "cell_type": "code",
   "execution_count": 30,
   "metadata": {},
   "outputs": [
    {
     "data": {
      "text/plain": [
       "1    ds@gmail.com\n",
       "Name: email, dtype: object"
      ]
     },
     "execution_count": 30,
     "metadata": {},
     "output_type": "execute_result"
    }
   ],
   "source": [
    "df.loc[(filter1) & (df['first']=='Deepanshu'), 'email']\n",
    "#&: AND, |:OR"
   ]
  },
  {
   "cell_type": "code",
   "execution_count": 31,
   "metadata": {},
   "outputs": [
    {
     "data": {
      "text/plain": [
       "Index(['first', 'last', 'email'], dtype='object')"
      ]
     },
     "execution_count": 31,
     "metadata": {},
     "output_type": "execute_result"
    }
   ],
   "source": [
    "df.columns"
   ]
  },
  {
   "cell_type": "code",
   "execution_count": 32,
   "metadata": {},
   "outputs": [
    {
     "data": {
      "text/html": [
       "<div>\n",
       "<style scoped>\n",
       "    .dataframe tbody tr th:only-of-type {\n",
       "        vertical-align: middle;\n",
       "    }\n",
       "\n",
       "    .dataframe tbody tr th {\n",
       "        vertical-align: top;\n",
       "    }\n",
       "\n",
       "    .dataframe thead th {\n",
       "        text-align: right;\n",
       "    }\n",
       "</style>\n",
       "<table border=\"1\" class=\"dataframe\">\n",
       "  <thead>\n",
       "    <tr style=\"text-align: right;\">\n",
       "      <th></th>\n",
       "      <th>first_name</th>\n",
       "      <th>last_name</th>\n",
       "      <th>email</th>\n",
       "    </tr>\n",
       "  </thead>\n",
       "  <tbody>\n",
       "    <tr>\n",
       "      <th>0</th>\n",
       "      <td>Jigyasa</td>\n",
       "      <td>Sachdeva</td>\n",
       "      <td>jigyasa.sachdeva24@gmail.com</td>\n",
       "    </tr>\n",
       "    <tr>\n",
       "      <th>1</th>\n",
       "      <td>Deepanshu</td>\n",
       "      <td>Sachdeva</td>\n",
       "      <td>ds@gmail.com</td>\n",
       "    </tr>\n",
       "    <tr>\n",
       "      <th>2</th>\n",
       "      <td>Varun</td>\n",
       "      <td>Maheshwari</td>\n",
       "      <td>vm@gmail.com</td>\n",
       "    </tr>\n",
       "    <tr>\n",
       "      <th>3</th>\n",
       "      <td>Chirag</td>\n",
       "      <td>Ahluwalia</td>\n",
       "      <td>ca@gmail.com</td>\n",
       "    </tr>\n",
       "  </tbody>\n",
       "</table>\n",
       "</div>"
      ],
      "text/plain": [
       "  first_name   last_name                         email\n",
       "0    Jigyasa    Sachdeva  jigyasa.sachdeva24@gmail.com\n",
       "1  Deepanshu    Sachdeva                  ds@gmail.com\n",
       "2      Varun  Maheshwari                  vm@gmail.com\n",
       "3     Chirag   Ahluwalia                  ca@gmail.com"
      ]
     },
     "execution_count": 32,
     "metadata": {},
     "output_type": "execute_result"
    }
   ],
   "source": [
    "#Changing column names\n",
    "\n",
    "#Changing all names\n",
    "df.columns = ['first_name', 'last_name', 'email']\n",
    "df"
   ]
  },
  {
   "cell_type": "code",
   "execution_count": 33,
   "metadata": {},
   "outputs": [
    {
     "data": {
      "text/html": [
       "<div>\n",
       "<style scoped>\n",
       "    .dataframe tbody tr th:only-of-type {\n",
       "        vertical-align: middle;\n",
       "    }\n",
       "\n",
       "    .dataframe tbody tr th {\n",
       "        vertical-align: top;\n",
       "    }\n",
       "\n",
       "    .dataframe thead th {\n",
       "        text-align: right;\n",
       "    }\n",
       "</style>\n",
       "<table border=\"1\" class=\"dataframe\">\n",
       "  <thead>\n",
       "    <tr style=\"text-align: right;\">\n",
       "      <th></th>\n",
       "      <th>FIRST_NAME</th>\n",
       "      <th>LAST_NAME</th>\n",
       "      <th>EMAIL</th>\n",
       "    </tr>\n",
       "  </thead>\n",
       "  <tbody>\n",
       "    <tr>\n",
       "      <th>0</th>\n",
       "      <td>Jigyasa</td>\n",
       "      <td>Sachdeva</td>\n",
       "      <td>jigyasa.sachdeva24@gmail.com</td>\n",
       "    </tr>\n",
       "    <tr>\n",
       "      <th>1</th>\n",
       "      <td>Deepanshu</td>\n",
       "      <td>Sachdeva</td>\n",
       "      <td>ds@gmail.com</td>\n",
       "    </tr>\n",
       "    <tr>\n",
       "      <th>2</th>\n",
       "      <td>Varun</td>\n",
       "      <td>Maheshwari</td>\n",
       "      <td>vm@gmail.com</td>\n",
       "    </tr>\n",
       "    <tr>\n",
       "      <th>3</th>\n",
       "      <td>Chirag</td>\n",
       "      <td>Ahluwalia</td>\n",
       "      <td>ca@gmail.com</td>\n",
       "    </tr>\n",
       "  </tbody>\n",
       "</table>\n",
       "</div>"
      ],
      "text/plain": [
       "  FIRST_NAME   LAST_NAME                         EMAIL\n",
       "0    Jigyasa    Sachdeva  jigyasa.sachdeva24@gmail.com\n",
       "1  Deepanshu    Sachdeva                  ds@gmail.com\n",
       "2      Varun  Maheshwari                  vm@gmail.com\n",
       "3     Chirag   Ahluwalia                  ca@gmail.com"
      ]
     },
     "execution_count": 33,
     "metadata": {},
     "output_type": "execute_result"
    }
   ],
   "source": [
    "#Changing few column names\n",
    "#Changing all lower/upper case\n",
    "df.columns = [x.upper() for x in df.columns]\n",
    "df\n",
    "#Only worls when all characters are lower case\n"
   ]
  },
  {
   "cell_type": "code",
   "execution_count": 34,
   "metadata": {},
   "outputs": [
    {
     "data": {
      "text/html": [
       "<div>\n",
       "<style scoped>\n",
       "    .dataframe tbody tr th:only-of-type {\n",
       "        vertical-align: middle;\n",
       "    }\n",
       "\n",
       "    .dataframe tbody tr th {\n",
       "        vertical-align: top;\n",
       "    }\n",
       "\n",
       "    .dataframe thead th {\n",
       "        text-align: right;\n",
       "    }\n",
       "</style>\n",
       "<table border=\"1\" class=\"dataframe\">\n",
       "  <thead>\n",
       "    <tr style=\"text-align: right;\">\n",
       "      <th></th>\n",
       "      <th>FIRST NAME</th>\n",
       "      <th>LAST NAME</th>\n",
       "      <th>EMAIL</th>\n",
       "    </tr>\n",
       "  </thead>\n",
       "  <tbody>\n",
       "    <tr>\n",
       "      <th>0</th>\n",
       "      <td>Jigyasa</td>\n",
       "      <td>Sachdeva</td>\n",
       "      <td>jigyasa.sachdeva24@gmail.com</td>\n",
       "    </tr>\n",
       "    <tr>\n",
       "      <th>1</th>\n",
       "      <td>Deepanshu</td>\n",
       "      <td>Sachdeva</td>\n",
       "      <td>ds@gmail.com</td>\n",
       "    </tr>\n",
       "    <tr>\n",
       "      <th>2</th>\n",
       "      <td>Varun</td>\n",
       "      <td>Maheshwari</td>\n",
       "      <td>vm@gmail.com</td>\n",
       "    </tr>\n",
       "    <tr>\n",
       "      <th>3</th>\n",
       "      <td>Chirag</td>\n",
       "      <td>Ahluwalia</td>\n",
       "      <td>ca@gmail.com</td>\n",
       "    </tr>\n",
       "  </tbody>\n",
       "</table>\n",
       "</div>"
      ],
      "text/plain": [
       "  FIRST NAME   LAST NAME                         EMAIL\n",
       "0    Jigyasa    Sachdeva  jigyasa.sachdeva24@gmail.com\n",
       "1  Deepanshu    Sachdeva                  ds@gmail.com\n",
       "2      Varun  Maheshwari                  vm@gmail.com\n",
       "3     Chirag   Ahluwalia                  ca@gmail.com"
      ]
     },
     "execution_count": 34,
     "metadata": {},
     "output_type": "execute_result"
    }
   ],
   "source": [
    "#replace '_' with space\n",
    "df.columns = df.columns.str.replace('_', ' ')\n",
    "df"
   ]
  },
  {
   "cell_type": "code",
   "execution_count": 35,
   "metadata": {},
   "outputs": [
    {
     "data": {
      "text/html": [
       "<div>\n",
       "<style scoped>\n",
       "    .dataframe tbody tr th:only-of-type {\n",
       "        vertical-align: middle;\n",
       "    }\n",
       "\n",
       "    .dataframe tbody tr th {\n",
       "        vertical-align: top;\n",
       "    }\n",
       "\n",
       "    .dataframe thead th {\n",
       "        text-align: right;\n",
       "    }\n",
       "</style>\n",
       "<table border=\"1\" class=\"dataframe\">\n",
       "  <thead>\n",
       "    <tr style=\"text-align: right;\">\n",
       "      <th></th>\n",
       "      <th>first_name</th>\n",
       "      <th>last_name</th>\n",
       "      <th>email</th>\n",
       "    </tr>\n",
       "  </thead>\n",
       "  <tbody>\n",
       "    <tr>\n",
       "      <th>0</th>\n",
       "      <td>Jigyasa</td>\n",
       "      <td>Sachdeva</td>\n",
       "      <td>jigyasa.sachdeva24@gmail.com</td>\n",
       "    </tr>\n",
       "    <tr>\n",
       "      <th>1</th>\n",
       "      <td>Deepanshu</td>\n",
       "      <td>Sachdeva</td>\n",
       "      <td>ds@gmail.com</td>\n",
       "    </tr>\n",
       "    <tr>\n",
       "      <th>2</th>\n",
       "      <td>Varun</td>\n",
       "      <td>Maheshwari</td>\n",
       "      <td>vm@gmail.com</td>\n",
       "    </tr>\n",
       "    <tr>\n",
       "      <th>3</th>\n",
       "      <td>Chirag</td>\n",
       "      <td>Ahluwalia</td>\n",
       "      <td>ca@gmail.com</td>\n",
       "    </tr>\n",
       "  </tbody>\n",
       "</table>\n",
       "</div>"
      ],
      "text/plain": [
       "  first_name   last_name                         email\n",
       "0    Jigyasa    Sachdeva  jigyasa.sachdeva24@gmail.com\n",
       "1  Deepanshu    Sachdeva                  ds@gmail.com\n",
       "2      Varun  Maheshwari                  vm@gmail.com\n",
       "3     Chirag   Ahluwalia                  ca@gmail.com"
      ]
     },
     "execution_count": 35,
     "metadata": {},
     "output_type": "execute_result"
    }
   ],
   "source": [
    "#Reverting back:\n",
    "df.columns = df.columns.str.replace(' ', '_')\n",
    "df.columns = [x.lower() for x in df.columns]\n",
    "df"
   ]
  },
  {
   "cell_type": "code",
   "execution_count": 36,
   "metadata": {},
   "outputs": [],
   "source": [
    "#Renaming specific columns:\n",
    "df.rename(columns = {'first_name': 'first', \n",
    "                     'last_name': 'last'},\n",
    "        inplace = True)"
   ]
  },
  {
   "cell_type": "code",
   "execution_count": 37,
   "metadata": {},
   "outputs": [
    {
     "data": {
      "text/html": [
       "<div>\n",
       "<style scoped>\n",
       "    .dataframe tbody tr th:only-of-type {\n",
       "        vertical-align: middle;\n",
       "    }\n",
       "\n",
       "    .dataframe tbody tr th {\n",
       "        vertical-align: top;\n",
       "    }\n",
       "\n",
       "    .dataframe thead th {\n",
       "        text-align: right;\n",
       "    }\n",
       "</style>\n",
       "<table border=\"1\" class=\"dataframe\">\n",
       "  <thead>\n",
       "    <tr style=\"text-align: right;\">\n",
       "      <th></th>\n",
       "      <th>first</th>\n",
       "      <th>last</th>\n",
       "      <th>email</th>\n",
       "    </tr>\n",
       "  </thead>\n",
       "  <tbody>\n",
       "    <tr>\n",
       "      <th>0</th>\n",
       "      <td>Jigyasa</td>\n",
       "      <td>Sachdeva</td>\n",
       "      <td>jigyasa.sachdeva24@gmail.com</td>\n",
       "    </tr>\n",
       "    <tr>\n",
       "      <th>1</th>\n",
       "      <td>Deepanshu</td>\n",
       "      <td>Sachdeva</td>\n",
       "      <td>ds@gmail.com</td>\n",
       "    </tr>\n",
       "    <tr>\n",
       "      <th>2</th>\n",
       "      <td>Varun</td>\n",
       "      <td>Maheshwari</td>\n",
       "      <td>vm@gmail.com</td>\n",
       "    </tr>\n",
       "    <tr>\n",
       "      <th>3</th>\n",
       "      <td>Chirag</td>\n",
       "      <td>Ahluwalia</td>\n",
       "      <td>ca@gmail.com</td>\n",
       "    </tr>\n",
       "  </tbody>\n",
       "</table>\n",
       "</div>"
      ],
      "text/plain": [
       "       first        last                         email\n",
       "0    Jigyasa    Sachdeva  jigyasa.sachdeva24@gmail.com\n",
       "1  Deepanshu    Sachdeva                  ds@gmail.com\n",
       "2      Varun  Maheshwari                  vm@gmail.com\n",
       "3     Chirag   Ahluwalia                  ca@gmail.com"
      ]
     },
     "execution_count": 37,
     "metadata": {},
     "output_type": "execute_result"
    }
   ],
   "source": [
    "df"
   ]
  },
  {
   "cell_type": "markdown",
   "metadata": {},
   "source": [
    "### Updating data in the rows"
   ]
  },
  {
   "cell_type": "code",
   "execution_count": 38,
   "metadata": {},
   "outputs": [
    {
     "data": {
      "text/html": [
       "<div>\n",
       "<style scoped>\n",
       "    .dataframe tbody tr th:only-of-type {\n",
       "        vertical-align: middle;\n",
       "    }\n",
       "\n",
       "    .dataframe tbody tr th {\n",
       "        vertical-align: top;\n",
       "    }\n",
       "\n",
       "    .dataframe thead th {\n",
       "        text-align: right;\n",
       "    }\n",
       "</style>\n",
       "<table border=\"1\" class=\"dataframe\">\n",
       "  <thead>\n",
       "    <tr style=\"text-align: right;\">\n",
       "      <th></th>\n",
       "      <th>first</th>\n",
       "      <th>last</th>\n",
       "      <th>email</th>\n",
       "    </tr>\n",
       "  </thead>\n",
       "  <tbody>\n",
       "    <tr>\n",
       "      <th>0</th>\n",
       "      <td>Jigyasa</td>\n",
       "      <td>Sachdeva</td>\n",
       "      <td>jigyasa.sachdeva24@gmail.com</td>\n",
       "    </tr>\n",
       "    <tr>\n",
       "      <th>1</th>\n",
       "      <td>Deepanshu</td>\n",
       "      <td>Sachdeva</td>\n",
       "      <td>ds@gmail.com</td>\n",
       "    </tr>\n",
       "    <tr>\n",
       "      <th>2</th>\n",
       "      <td>Varun</td>\n",
       "      <td>Maheshwari</td>\n",
       "      <td>vm@gmail.com</td>\n",
       "    </tr>\n",
       "    <tr>\n",
       "      <th>3</th>\n",
       "      <td>Chirag</td>\n",
       "      <td>Gulati</td>\n",
       "      <td>cg@gmail.com</td>\n",
       "    </tr>\n",
       "  </tbody>\n",
       "</table>\n",
       "</div>"
      ],
      "text/plain": [
       "       first        last                         email\n",
       "0    Jigyasa    Sachdeva  jigyasa.sachdeva24@gmail.com\n",
       "1  Deepanshu    Sachdeva                  ds@gmail.com\n",
       "2      Varun  Maheshwari                  vm@gmail.com\n",
       "3     Chirag      Gulati                  cg@gmail.com"
      ]
     },
     "execution_count": 38,
     "metadata": {},
     "output_type": "execute_result"
    }
   ],
   "source": [
    "#Updating entire row with index\n",
    "df.loc[3] = ['Chirag', 'Gulati', 'cg@gmail.com']\n",
    "df"
   ]
  },
  {
   "cell_type": "code",
   "execution_count": 39,
   "metadata": {},
   "outputs": [
    {
     "data": {
      "text/html": [
       "<div>\n",
       "<style scoped>\n",
       "    .dataframe tbody tr th:only-of-type {\n",
       "        vertical-align: middle;\n",
       "    }\n",
       "\n",
       "    .dataframe tbody tr th {\n",
       "        vertical-align: top;\n",
       "    }\n",
       "\n",
       "    .dataframe thead th {\n",
       "        text-align: right;\n",
       "    }\n",
       "</style>\n",
       "<table border=\"1\" class=\"dataframe\">\n",
       "  <thead>\n",
       "    <tr style=\"text-align: right;\">\n",
       "      <th></th>\n",
       "      <th>first</th>\n",
       "      <th>last</th>\n",
       "      <th>email</th>\n",
       "    </tr>\n",
       "  </thead>\n",
       "  <tbody>\n",
       "    <tr>\n",
       "      <th>0</th>\n",
       "      <td>Jigyasa</td>\n",
       "      <td>Sachdeva</td>\n",
       "      <td>jigyasa.sachdeva24@gmail.com</td>\n",
       "    </tr>\n",
       "    <tr>\n",
       "      <th>1</th>\n",
       "      <td>Deepanshu</td>\n",
       "      <td>Sachdeva</td>\n",
       "      <td>ds@gmail.com</td>\n",
       "    </tr>\n",
       "    <tr>\n",
       "      <th>2</th>\n",
       "      <td>Varun</td>\n",
       "      <td>Maheshwari</td>\n",
       "      <td>vm@gmail.com</td>\n",
       "    </tr>\n",
       "    <tr>\n",
       "      <th>3</th>\n",
       "      <td>Chirag</td>\n",
       "      <td>Ahluwalia</td>\n",
       "      <td>cah@gmail.com</td>\n",
       "    </tr>\n",
       "  </tbody>\n",
       "</table>\n",
       "</div>"
      ],
      "text/plain": [
       "       first        last                         email\n",
       "0    Jigyasa    Sachdeva  jigyasa.sachdeva24@gmail.com\n",
       "1  Deepanshu    Sachdeva                  ds@gmail.com\n",
       "2      Varun  Maheshwari                  vm@gmail.com\n",
       "3     Chirag   Ahluwalia                 cah@gmail.com"
      ]
     },
     "execution_count": 39,
     "metadata": {},
     "output_type": "execute_result"
    }
   ],
   "source": [
    "df.loc[3, 'last'] = 'Ahluwalia'\n",
    "df.loc[3, ['last', 'email']] = ['Ahluwalia', 'cah@gmail.com']\n",
    "df\n",
    "#We can use .at in place of .loc\n",
    "\n"
   ]
  },
  {
   "cell_type": "code",
   "execution_count": 40,
   "metadata": {},
   "outputs": [
    {
     "data": {
      "text/html": [
       "<div>\n",
       "<style scoped>\n",
       "    .dataframe tbody tr th:only-of-type {\n",
       "        vertical-align: middle;\n",
       "    }\n",
       "\n",
       "    .dataframe tbody tr th {\n",
       "        vertical-align: top;\n",
       "    }\n",
       "\n",
       "    .dataframe thead th {\n",
       "        text-align: right;\n",
       "    }\n",
       "</style>\n",
       "<table border=\"1\" class=\"dataframe\">\n",
       "  <thead>\n",
       "    <tr style=\"text-align: right;\">\n",
       "      <th></th>\n",
       "      <th>first</th>\n",
       "      <th>last</th>\n",
       "      <th>email</th>\n",
       "    </tr>\n",
       "  </thead>\n",
       "  <tbody>\n",
       "    <tr>\n",
       "      <th>0</th>\n",
       "      <td>Jigyasa</td>\n",
       "      <td>Sachdeva</td>\n",
       "      <td>jigyasa.sachdeva24@gmail.com</td>\n",
       "    </tr>\n",
       "    <tr>\n",
       "      <th>1</th>\n",
       "      <td>Deepanshu</td>\n",
       "      <td>Sachdeva</td>\n",
       "      <td>ds@gmail.com</td>\n",
       "    </tr>\n",
       "    <tr>\n",
       "      <th>2</th>\n",
       "      <td>Varun</td>\n",
       "      <td>Maheshwari</td>\n",
       "      <td>vm@gmail.com</td>\n",
       "    </tr>\n",
       "    <tr>\n",
       "      <th>3</th>\n",
       "      <td>Chirag</td>\n",
       "      <td>A</td>\n",
       "      <td>cah@gmail.com</td>\n",
       "    </tr>\n",
       "  </tbody>\n",
       "</table>\n",
       "</div>"
      ],
      "text/plain": [
       "       first        last                         email\n",
       "0    Jigyasa    Sachdeva  jigyasa.sachdeva24@gmail.com\n",
       "1  Deepanshu    Sachdeva                  ds@gmail.com\n",
       "2      Varun  Maheshwari                  vm@gmail.com\n",
       "3     Chirag           A                 cah@gmail.com"
      ]
     },
     "execution_count": 40,
     "metadata": {},
     "output_type": "execute_result"
    }
   ],
   "source": [
    "#Creating a filter, where email is cah@gmail.com; and then changing last name\n",
    "filt = df['email'] == 'cah@gmail.com'\n",
    "df.loc[filt, 'last'] = 'A'\n",
    "df"
   ]
  },
  {
   "cell_type": "code",
   "execution_count": 41,
   "metadata": {},
   "outputs": [
    {
     "data": {
      "text/html": [
       "<div>\n",
       "<style scoped>\n",
       "    .dataframe tbody tr th:only-of-type {\n",
       "        vertical-align: middle;\n",
       "    }\n",
       "\n",
       "    .dataframe tbody tr th {\n",
       "        vertical-align: top;\n",
       "    }\n",
       "\n",
       "    .dataframe thead th {\n",
       "        text-align: right;\n",
       "    }\n",
       "</style>\n",
       "<table border=\"1\" class=\"dataframe\">\n",
       "  <thead>\n",
       "    <tr style=\"text-align: right;\">\n",
       "      <th></th>\n",
       "      <th>first</th>\n",
       "      <th>last</th>\n",
       "      <th>email</th>\n",
       "    </tr>\n",
       "  </thead>\n",
       "  <tbody>\n",
       "    <tr>\n",
       "      <th>0</th>\n",
       "      <td>Jigyasa</td>\n",
       "      <td>Sachdeva</td>\n",
       "      <td>jigyasa.sachdeva24@gmail.com</td>\n",
       "    </tr>\n",
       "    <tr>\n",
       "      <th>1</th>\n",
       "      <td>Deepanshu</td>\n",
       "      <td>Sachdeva</td>\n",
       "      <td>ds@gmail.com</td>\n",
       "    </tr>\n",
       "    <tr>\n",
       "      <th>2</th>\n",
       "      <td>Varun</td>\n",
       "      <td>Maheshwari</td>\n",
       "      <td>vm@gmail.com</td>\n",
       "    </tr>\n",
       "    <tr>\n",
       "      <th>3</th>\n",
       "      <td>Chirag</td>\n",
       "      <td>A</td>\n",
       "      <td>cah@gmail.com</td>\n",
       "    </tr>\n",
       "  </tbody>\n",
       "</table>\n",
       "</div>"
      ],
      "text/plain": [
       "       first        last                         email\n",
       "0    Jigyasa    Sachdeva  jigyasa.sachdeva24@gmail.com\n",
       "1  Deepanshu    Sachdeva                  ds@gmail.com\n",
       "2      Varun  Maheshwari                  vm@gmail.com\n",
       "3     Chirag           A                 cah@gmail.com"
      ]
     },
     "execution_count": 41,
     "metadata": {},
     "output_type": "execute_result"
    }
   ],
   "source": [
    "df['email'] = df['email'].str.lower()\n",
    "df"
   ]
  },
  {
   "cell_type": "markdown",
   "metadata": {},
   "source": [
    "apply\n",
    "map\n",
    "applymap\n",
    "replace"
   ]
  },
  {
   "cell_type": "code",
   "execution_count": 42,
   "metadata": {},
   "outputs": [
    {
     "data": {
      "text/plain": [
       "0    28\n",
       "1    12\n",
       "2    12\n",
       "3    13\n",
       "Name: email, dtype: int64"
      ]
     },
     "execution_count": 42,
     "metadata": {},
     "output_type": "execute_result"
    }
   ],
   "source": [
    "#apply\n",
    "#applies function on series\n",
    "\n",
    "#applying length function to a column:\n",
    "df['email'].apply(len)"
   ]
  },
  {
   "cell_type": "code",
   "execution_count": 43,
   "metadata": {},
   "outputs": [
    {
     "data": {
      "text/plain": [
       "0    JIGYASA.SACHDEVA24@GMAIL.COM\n",
       "1                    DS@GMAIL.COM\n",
       "2                    VM@GMAIL.COM\n",
       "3                   CAH@GMAIL.COM\n",
       "Name: email, dtype: object"
      ]
     },
     "execution_count": 43,
     "metadata": {},
     "output_type": "execute_result"
    }
   ],
   "source": [
    "#Creating a function and then applying it\n",
    "\n",
    "def update_email(email):\n",
    "    return email.upper()\n",
    "df['email'].apply(update_email)\n",
    "\n",
    "#Can be applied permanently: \n",
    "#  df['email']= df['email'].apply(update_email)"
   ]
  },
  {
   "cell_type": "code",
   "execution_count": 44,
   "metadata": {},
   "outputs": [
    {
     "data": {
      "text/plain": [
       "first    4\n",
       "last     4\n",
       "email    4\n",
       "dtype: int64"
      ]
     },
     "execution_count": 44,
     "metadata": {},
     "output_type": "execute_result"
    }
   ],
   "source": [
    "df.apply(len)\n",
    "#applying length function to all columns (each series) of the data frame\n"
   ]
  },
  {
   "cell_type": "code",
   "execution_count": 45,
   "metadata": {},
   "outputs": [
    {
     "data": {
      "text/plain": [
       "first           Chirag\n",
       "last                 A\n",
       "email    cah@gmail.com\n",
       "dtype: object"
      ]
     },
     "execution_count": 45,
     "metadata": {},
     "output_type": "execute_result"
    }
   ],
   "source": [
    "#Applying on rows\n",
    "df.apply(pd.Series.min)\n",
    "#Minimum in each column"
   ]
  },
  {
   "cell_type": "code",
   "execution_count": 46,
   "metadata": {},
   "outputs": [
    {
     "data": {
      "text/html": [
       "<div>\n",
       "<style scoped>\n",
       "    .dataframe tbody tr th:only-of-type {\n",
       "        vertical-align: middle;\n",
       "    }\n",
       "\n",
       "    .dataframe tbody tr th {\n",
       "        vertical-align: top;\n",
       "    }\n",
       "\n",
       "    .dataframe thead th {\n",
       "        text-align: right;\n",
       "    }\n",
       "</style>\n",
       "<table border=\"1\" class=\"dataframe\">\n",
       "  <thead>\n",
       "    <tr style=\"text-align: right;\">\n",
       "      <th></th>\n",
       "      <th>first</th>\n",
       "      <th>last</th>\n",
       "      <th>email</th>\n",
       "    </tr>\n",
       "  </thead>\n",
       "  <tbody>\n",
       "    <tr>\n",
       "      <th>0</th>\n",
       "      <td>7</td>\n",
       "      <td>8</td>\n",
       "      <td>28</td>\n",
       "    </tr>\n",
       "    <tr>\n",
       "      <th>1</th>\n",
       "      <td>9</td>\n",
       "      <td>8</td>\n",
       "      <td>12</td>\n",
       "    </tr>\n",
       "    <tr>\n",
       "      <th>2</th>\n",
       "      <td>5</td>\n",
       "      <td>10</td>\n",
       "      <td>12</td>\n",
       "    </tr>\n",
       "    <tr>\n",
       "      <th>3</th>\n",
       "      <td>6</td>\n",
       "      <td>1</td>\n",
       "      <td>13</td>\n",
       "    </tr>\n",
       "  </tbody>\n",
       "</table>\n",
       "</div>"
      ],
      "text/plain": [
       "   first  last  email\n",
       "0      7     8     28\n",
       "1      9     8     12\n",
       "2      5    10     12\n",
       "3      6     1     13"
      ]
     },
     "execution_count": 46,
     "metadata": {},
     "output_type": "execute_result"
    }
   ],
   "source": [
    "#applymap: on all cells in the dataframe\n",
    "df.applymap(len)\n",
    "#Applying to each individual value"
   ]
  },
  {
   "cell_type": "code",
   "execution_count": 47,
   "metadata": {},
   "outputs": [
    {
     "data": {
      "text/plain": [
       "0    jigyasa\n",
       "1        NaN\n",
       "2        NaN\n",
       "3        NaN\n",
       "Name: first, dtype: object"
      ]
     },
     "execution_count": 47,
     "metadata": {},
     "output_type": "execute_result"
    }
   ],
   "source": [
    "#map iterates all values of a series\n",
    "df['first'].map({'Jigyasa':'jigyasa'})"
   ]
  },
  {
   "cell_type": "code",
   "execution_count": 48,
   "metadata": {},
   "outputs": [
    {
     "data": {
      "text/plain": [
       "0      jigyasa\n",
       "1    Deepanshu\n",
       "2        Varun\n",
       "3       Chirag\n",
       "Name: first, dtype: object"
      ]
     },
     "execution_count": 48,
     "metadata": {},
     "output_type": "execute_result"
    }
   ],
   "source": [
    "#Only what is required in the series\n",
    "df['first'].replace({'Jigyasa':'jigyasa'})"
   ]
  },
  {
   "cell_type": "code",
   "execution_count": 49,
   "metadata": {},
   "outputs": [
    {
     "data": {
      "text/html": [
       "<div>\n",
       "<style scoped>\n",
       "    .dataframe tbody tr th:only-of-type {\n",
       "        vertical-align: middle;\n",
       "    }\n",
       "\n",
       "    .dataframe tbody tr th {\n",
       "        vertical-align: top;\n",
       "    }\n",
       "\n",
       "    .dataframe thead th {\n",
       "        text-align: right;\n",
       "    }\n",
       "</style>\n",
       "<table border=\"1\" class=\"dataframe\">\n",
       "  <thead>\n",
       "    <tr style=\"text-align: right;\">\n",
       "      <th></th>\n",
       "      <th>first</th>\n",
       "      <th>last</th>\n",
       "      <th>email</th>\n",
       "      <th>FullName</th>\n",
       "    </tr>\n",
       "  </thead>\n",
       "  <tbody>\n",
       "    <tr>\n",
       "      <th>0</th>\n",
       "      <td>Jigyasa</td>\n",
       "      <td>Sachdeva</td>\n",
       "      <td>jigyasa.sachdeva24@gmail.com</td>\n",
       "      <td>Jigyasa Sachdeva</td>\n",
       "    </tr>\n",
       "    <tr>\n",
       "      <th>1</th>\n",
       "      <td>Deepanshu</td>\n",
       "      <td>Sachdeva</td>\n",
       "      <td>ds@gmail.com</td>\n",
       "      <td>Deepanshu Sachdeva</td>\n",
       "    </tr>\n",
       "    <tr>\n",
       "      <th>2</th>\n",
       "      <td>Varun</td>\n",
       "      <td>Maheshwari</td>\n",
       "      <td>vm@gmail.com</td>\n",
       "      <td>Varun Maheshwari</td>\n",
       "    </tr>\n",
       "    <tr>\n",
       "      <th>3</th>\n",
       "      <td>Chirag</td>\n",
       "      <td>A</td>\n",
       "      <td>cah@gmail.com</td>\n",
       "      <td>Chirag A</td>\n",
       "    </tr>\n",
       "  </tbody>\n",
       "</table>\n",
       "</div>"
      ],
      "text/plain": [
       "       first        last                         email            FullName\n",
       "0    Jigyasa    Sachdeva  jigyasa.sachdeva24@gmail.com    Jigyasa Sachdeva\n",
       "1  Deepanshu    Sachdeva                  ds@gmail.com  Deepanshu Sachdeva\n",
       "2      Varun  Maheshwari                  vm@gmail.com    Varun Maheshwari\n",
       "3     Chirag           A                 cah@gmail.com            Chirag A"
      ]
     },
     "execution_count": 49,
     "metadata": {},
     "output_type": "execute_result"
    }
   ],
   "source": [
    "#Concatenating Strings and creating a new column\n",
    "df['FullName'] = df['first'] + ' ' + df['last']\n",
    "df"
   ]
  },
  {
   "cell_type": "code",
   "execution_count": 50,
   "metadata": {},
   "outputs": [],
   "source": [
    "#Removing columns from table\n",
    "df.drop(columns = ['first', 'last'], inplace = True)"
   ]
  },
  {
   "cell_type": "code",
   "execution_count": 51,
   "metadata": {},
   "outputs": [
    {
     "data": {
      "text/html": [
       "<div>\n",
       "<style scoped>\n",
       "    .dataframe tbody tr th:only-of-type {\n",
       "        vertical-align: middle;\n",
       "    }\n",
       "\n",
       "    .dataframe tbody tr th {\n",
       "        vertical-align: top;\n",
       "    }\n",
       "\n",
       "    .dataframe thead th {\n",
       "        text-align: right;\n",
       "    }\n",
       "</style>\n",
       "<table border=\"1\" class=\"dataframe\">\n",
       "  <thead>\n",
       "    <tr style=\"text-align: right;\">\n",
       "      <th></th>\n",
       "      <th>email</th>\n",
       "      <th>FullName</th>\n",
       "    </tr>\n",
       "  </thead>\n",
       "  <tbody>\n",
       "    <tr>\n",
       "      <th>0</th>\n",
       "      <td>jigyasa.sachdeva24@gmail.com</td>\n",
       "      <td>Jigyasa Sachdeva</td>\n",
       "    </tr>\n",
       "    <tr>\n",
       "      <th>1</th>\n",
       "      <td>ds@gmail.com</td>\n",
       "      <td>Deepanshu Sachdeva</td>\n",
       "    </tr>\n",
       "    <tr>\n",
       "      <th>2</th>\n",
       "      <td>vm@gmail.com</td>\n",
       "      <td>Varun Maheshwari</td>\n",
       "    </tr>\n",
       "    <tr>\n",
       "      <th>3</th>\n",
       "      <td>cah@gmail.com</td>\n",
       "      <td>Chirag A</td>\n",
       "    </tr>\n",
       "  </tbody>\n",
       "</table>\n",
       "</div>"
      ],
      "text/plain": [
       "                          email            FullName\n",
       "0  jigyasa.sachdeva24@gmail.com    Jigyasa Sachdeva\n",
       "1                  ds@gmail.com  Deepanshu Sachdeva\n",
       "2                  vm@gmail.com    Varun Maheshwari\n",
       "3                 cah@gmail.com            Chirag A"
      ]
     },
     "execution_count": 51,
     "metadata": {},
     "output_type": "execute_result"
    }
   ],
   "source": [
    "df"
   ]
  },
  {
   "cell_type": "code",
   "execution_count": 52,
   "metadata": {},
   "outputs": [
    {
     "data": {
      "text/plain": [
       "0      [Jigyasa, Sachdeva]\n",
       "1    [Deepanshu, Sachdeva]\n",
       "2      [Varun, Maheshwari]\n",
       "3              [Chirag, A]\n",
       "Name: FullName, dtype: object"
      ]
     },
     "execution_count": 52,
     "metadata": {},
     "output_type": "execute_result"
    }
   ],
   "source": [
    "#Splitting 1 column to 2\n",
    "df['FullName'].str.split(' ')"
   ]
  },
  {
   "cell_type": "code",
   "execution_count": 53,
   "metadata": {},
   "outputs": [
    {
     "data": {
      "text/html": [
       "<div>\n",
       "<style scoped>\n",
       "    .dataframe tbody tr th:only-of-type {\n",
       "        vertical-align: middle;\n",
       "    }\n",
       "\n",
       "    .dataframe tbody tr th {\n",
       "        vertical-align: top;\n",
       "    }\n",
       "\n",
       "    .dataframe thead th {\n",
       "        text-align: right;\n",
       "    }\n",
       "</style>\n",
       "<table border=\"1\" class=\"dataframe\">\n",
       "  <thead>\n",
       "    <tr style=\"text-align: right;\">\n",
       "      <th></th>\n",
       "      <th>0</th>\n",
       "      <th>1</th>\n",
       "    </tr>\n",
       "  </thead>\n",
       "  <tbody>\n",
       "    <tr>\n",
       "      <th>0</th>\n",
       "      <td>Jigyasa</td>\n",
       "      <td>Sachdeva</td>\n",
       "    </tr>\n",
       "    <tr>\n",
       "      <th>1</th>\n",
       "      <td>Deepanshu</td>\n",
       "      <td>Sachdeva</td>\n",
       "    </tr>\n",
       "    <tr>\n",
       "      <th>2</th>\n",
       "      <td>Varun</td>\n",
       "      <td>Maheshwari</td>\n",
       "    </tr>\n",
       "    <tr>\n",
       "      <th>3</th>\n",
       "      <td>Chirag</td>\n",
       "      <td>A</td>\n",
       "    </tr>\n",
       "  </tbody>\n",
       "</table>\n",
       "</div>"
      ],
      "text/plain": [
       "           0           1\n",
       "0    Jigyasa    Sachdeva\n",
       "1  Deepanshu    Sachdeva\n",
       "2      Varun  Maheshwari\n",
       "3     Chirag           A"
      ]
     },
     "execution_count": 53,
     "metadata": {},
     "output_type": "execute_result"
    }
   ],
   "source": [
    "#Assihgning this to 2 different columns\n",
    "df['FullName'].str.split(' ', expand = True)"
   ]
  },
  {
   "cell_type": "code",
   "execution_count": 54,
   "metadata": {},
   "outputs": [
    {
     "data": {
      "text/html": [
       "<div>\n",
       "<style scoped>\n",
       "    .dataframe tbody tr th:only-of-type {\n",
       "        vertical-align: middle;\n",
       "    }\n",
       "\n",
       "    .dataframe tbody tr th {\n",
       "        vertical-align: top;\n",
       "    }\n",
       "\n",
       "    .dataframe thead th {\n",
       "        text-align: right;\n",
       "    }\n",
       "</style>\n",
       "<table border=\"1\" class=\"dataframe\">\n",
       "  <thead>\n",
       "    <tr style=\"text-align: right;\">\n",
       "      <th></th>\n",
       "      <th>email</th>\n",
       "      <th>FullName</th>\n",
       "      <th>first</th>\n",
       "      <th>last</th>\n",
       "    </tr>\n",
       "  </thead>\n",
       "  <tbody>\n",
       "    <tr>\n",
       "      <th>0</th>\n",
       "      <td>jigyasa.sachdeva24@gmail.com</td>\n",
       "      <td>Jigyasa Sachdeva</td>\n",
       "      <td>Jigyasa</td>\n",
       "      <td>Sachdeva</td>\n",
       "    </tr>\n",
       "    <tr>\n",
       "      <th>1</th>\n",
       "      <td>ds@gmail.com</td>\n",
       "      <td>Deepanshu Sachdeva</td>\n",
       "      <td>Deepanshu</td>\n",
       "      <td>Sachdeva</td>\n",
       "    </tr>\n",
       "    <tr>\n",
       "      <th>2</th>\n",
       "      <td>vm@gmail.com</td>\n",
       "      <td>Varun Maheshwari</td>\n",
       "      <td>Varun</td>\n",
       "      <td>Maheshwari</td>\n",
       "    </tr>\n",
       "    <tr>\n",
       "      <th>3</th>\n",
       "      <td>cah@gmail.com</td>\n",
       "      <td>Chirag A</td>\n",
       "      <td>Chirag</td>\n",
       "      <td>A</td>\n",
       "    </tr>\n",
       "  </tbody>\n",
       "</table>\n",
       "</div>"
      ],
      "text/plain": [
       "                          email            FullName      first        last\n",
       "0  jigyasa.sachdeva24@gmail.com    Jigyasa Sachdeva    Jigyasa    Sachdeva\n",
       "1                  ds@gmail.com  Deepanshu Sachdeva  Deepanshu    Sachdeva\n",
       "2                  vm@gmail.com    Varun Maheshwari      Varun  Maheshwari\n",
       "3                 cah@gmail.com            Chirag A     Chirag           A"
      ]
     },
     "execution_count": 54,
     "metadata": {},
     "output_type": "execute_result"
    }
   ],
   "source": [
    "df[['first', 'last']] = df['FullName'].str.split(' ', expand = True)\n",
    "df"
   ]
  },
  {
   "cell_type": "code",
   "execution_count": 55,
   "metadata": {},
   "outputs": [
    {
     "data": {
      "text/html": [
       "<div>\n",
       "<style scoped>\n",
       "    .dataframe tbody tr th:only-of-type {\n",
       "        vertical-align: middle;\n",
       "    }\n",
       "\n",
       "    .dataframe tbody tr th {\n",
       "        vertical-align: top;\n",
       "    }\n",
       "\n",
       "    .dataframe thead th {\n",
       "        text-align: right;\n",
       "    }\n",
       "</style>\n",
       "<table border=\"1\" class=\"dataframe\">\n",
       "  <thead>\n",
       "    <tr style=\"text-align: right;\">\n",
       "      <th></th>\n",
       "      <th>email</th>\n",
       "      <th>FullName</th>\n",
       "      <th>first</th>\n",
       "      <th>last</th>\n",
       "    </tr>\n",
       "  </thead>\n",
       "  <tbody>\n",
       "    <tr>\n",
       "      <th>0</th>\n",
       "      <td>jigyasa.sachdeva24@gmail.com</td>\n",
       "      <td>Jigyasa Sachdeva</td>\n",
       "      <td>Jigyasa</td>\n",
       "      <td>Sachdeva</td>\n",
       "    </tr>\n",
       "    <tr>\n",
       "      <th>1</th>\n",
       "      <td>ds@gmail.com</td>\n",
       "      <td>Deepanshu Sachdeva</td>\n",
       "      <td>Deepanshu</td>\n",
       "      <td>Sachdeva</td>\n",
       "    </tr>\n",
       "    <tr>\n",
       "      <th>2</th>\n",
       "      <td>vm@gmail.com</td>\n",
       "      <td>Varun Maheshwari</td>\n",
       "      <td>Varun</td>\n",
       "      <td>Maheshwari</td>\n",
       "    </tr>\n",
       "    <tr>\n",
       "      <th>3</th>\n",
       "      <td>cah@gmail.com</td>\n",
       "      <td>Chirag A</td>\n",
       "      <td>Chirag</td>\n",
       "      <td>A</td>\n",
       "    </tr>\n",
       "    <tr>\n",
       "      <th>4</th>\n",
       "      <td>NaN</td>\n",
       "      <td>NaN</td>\n",
       "      <td>Tony</td>\n",
       "      <td>NaN</td>\n",
       "    </tr>\n",
       "  </tbody>\n",
       "</table>\n",
       "</div>"
      ],
      "text/plain": [
       "                          email            FullName      first        last\n",
       "0  jigyasa.sachdeva24@gmail.com    Jigyasa Sachdeva    Jigyasa    Sachdeva\n",
       "1                  ds@gmail.com  Deepanshu Sachdeva  Deepanshu    Sachdeva\n",
       "2                  vm@gmail.com    Varun Maheshwari      Varun  Maheshwari\n",
       "3                 cah@gmail.com            Chirag A     Chirag           A\n",
       "4                           NaN                 NaN       Tony         NaN"
      ]
     },
     "execution_count": 55,
     "metadata": {},
     "output_type": "execute_result"
    }
   ],
   "source": [
    "#Adding and removing Rows\n",
    "\n",
    "#Adding 1 row\n",
    "df.append({'first':'Tony'}, ignore_index = True)\n"
   ]
  },
  {
   "cell_type": "code",
   "execution_count": 56,
   "metadata": {},
   "outputs": [],
   "source": [
    "#Appending a data frame to another\n",
    "people = {\n",
    "\"first\": [\"Apple\", \"Banana\"],\n",
    "\"last\": [\"Steve\", \"Man\"]\n",
    "}\n",
    "df2 = pd.DataFrame(people)"
   ]
  },
  {
   "cell_type": "code",
   "execution_count": 57,
   "metadata": {},
   "outputs": [
    {
     "data": {
      "text/html": [
       "<div>\n",
       "<style scoped>\n",
       "    .dataframe tbody tr th:only-of-type {\n",
       "        vertical-align: middle;\n",
       "    }\n",
       "\n",
       "    .dataframe tbody tr th {\n",
       "        vertical-align: top;\n",
       "    }\n",
       "\n",
       "    .dataframe thead th {\n",
       "        text-align: right;\n",
       "    }\n",
       "</style>\n",
       "<table border=\"1\" class=\"dataframe\">\n",
       "  <thead>\n",
       "    <tr style=\"text-align: right;\">\n",
       "      <th></th>\n",
       "      <th>first</th>\n",
       "      <th>last</th>\n",
       "    </tr>\n",
       "  </thead>\n",
       "  <tbody>\n",
       "    <tr>\n",
       "      <th>0</th>\n",
       "      <td>Apple</td>\n",
       "      <td>Steve</td>\n",
       "    </tr>\n",
       "    <tr>\n",
       "      <th>1</th>\n",
       "      <td>Banana</td>\n",
       "      <td>Man</td>\n",
       "    </tr>\n",
       "  </tbody>\n",
       "</table>\n",
       "</div>"
      ],
      "text/plain": [
       "    first   last\n",
       "0   Apple  Steve\n",
       "1  Banana    Man"
      ]
     },
     "execution_count": 57,
     "metadata": {},
     "output_type": "execute_result"
    }
   ],
   "source": [
    "df2"
   ]
  },
  {
   "cell_type": "code",
   "execution_count": 58,
   "metadata": {},
   "outputs": [
    {
     "data": {
      "text/html": [
       "<div>\n",
       "<style scoped>\n",
       "    .dataframe tbody tr th:only-of-type {\n",
       "        vertical-align: middle;\n",
       "    }\n",
       "\n",
       "    .dataframe tbody tr th {\n",
       "        vertical-align: top;\n",
       "    }\n",
       "\n",
       "    .dataframe thead th {\n",
       "        text-align: right;\n",
       "    }\n",
       "</style>\n",
       "<table border=\"1\" class=\"dataframe\">\n",
       "  <thead>\n",
       "    <tr style=\"text-align: right;\">\n",
       "      <th></th>\n",
       "      <th>email</th>\n",
       "      <th>FullName</th>\n",
       "      <th>first</th>\n",
       "      <th>last</th>\n",
       "    </tr>\n",
       "  </thead>\n",
       "  <tbody>\n",
       "    <tr>\n",
       "      <th>0</th>\n",
       "      <td>jigyasa.sachdeva24@gmail.com</td>\n",
       "      <td>Jigyasa Sachdeva</td>\n",
       "      <td>Jigyasa</td>\n",
       "      <td>Sachdeva</td>\n",
       "    </tr>\n",
       "    <tr>\n",
       "      <th>1</th>\n",
       "      <td>ds@gmail.com</td>\n",
       "      <td>Deepanshu Sachdeva</td>\n",
       "      <td>Deepanshu</td>\n",
       "      <td>Sachdeva</td>\n",
       "    </tr>\n",
       "    <tr>\n",
       "      <th>2</th>\n",
       "      <td>vm@gmail.com</td>\n",
       "      <td>Varun Maheshwari</td>\n",
       "      <td>Varun</td>\n",
       "      <td>Maheshwari</td>\n",
       "    </tr>\n",
       "    <tr>\n",
       "      <th>3</th>\n",
       "      <td>cah@gmail.com</td>\n",
       "      <td>Chirag A</td>\n",
       "      <td>Chirag</td>\n",
       "      <td>A</td>\n",
       "    </tr>\n",
       "    <tr>\n",
       "      <th>4</th>\n",
       "      <td>NaN</td>\n",
       "      <td>NaN</td>\n",
       "      <td>Apple</td>\n",
       "      <td>Steve</td>\n",
       "    </tr>\n",
       "    <tr>\n",
       "      <th>5</th>\n",
       "      <td>NaN</td>\n",
       "      <td>NaN</td>\n",
       "      <td>Banana</td>\n",
       "      <td>Man</td>\n",
       "    </tr>\n",
       "  </tbody>\n",
       "</table>\n",
       "</div>"
      ],
      "text/plain": [
       "                          email            FullName      first        last\n",
       "0  jigyasa.sachdeva24@gmail.com    Jigyasa Sachdeva    Jigyasa    Sachdeva\n",
       "1                  ds@gmail.com  Deepanshu Sachdeva  Deepanshu    Sachdeva\n",
       "2                  vm@gmail.com    Varun Maheshwari      Varun  Maheshwari\n",
       "3                 cah@gmail.com            Chirag A     Chirag           A\n",
       "4                           NaN                 NaN      Apple       Steve\n",
       "5                           NaN                 NaN     Banana         Man"
      ]
     },
     "execution_count": 58,
     "metadata": {},
     "output_type": "execute_result"
    }
   ],
   "source": [
    "#Ignore index\n",
    "df = df.append(df2, ignore_index = True)\n",
    "df"
   ]
  },
  {
   "cell_type": "code",
   "execution_count": 59,
   "metadata": {},
   "outputs": [],
   "source": [
    "df = df.loc[0:5]"
   ]
  },
  {
   "cell_type": "code",
   "execution_count": 60,
   "metadata": {},
   "outputs": [
    {
     "data": {
      "text/html": [
       "<div>\n",
       "<style scoped>\n",
       "    .dataframe tbody tr th:only-of-type {\n",
       "        vertical-align: middle;\n",
       "    }\n",
       "\n",
       "    .dataframe tbody tr th {\n",
       "        vertical-align: top;\n",
       "    }\n",
       "\n",
       "    .dataframe thead th {\n",
       "        text-align: right;\n",
       "    }\n",
       "</style>\n",
       "<table border=\"1\" class=\"dataframe\">\n",
       "  <thead>\n",
       "    <tr style=\"text-align: right;\">\n",
       "      <th></th>\n",
       "      <th>email</th>\n",
       "      <th>FullName</th>\n",
       "      <th>first</th>\n",
       "      <th>last</th>\n",
       "    </tr>\n",
       "  </thead>\n",
       "  <tbody>\n",
       "    <tr>\n",
       "      <th>0</th>\n",
       "      <td>jigyasa.sachdeva24@gmail.com</td>\n",
       "      <td>Jigyasa Sachdeva</td>\n",
       "      <td>Jigyasa</td>\n",
       "      <td>Sachdeva</td>\n",
       "    </tr>\n",
       "    <tr>\n",
       "      <th>1</th>\n",
       "      <td>ds@gmail.com</td>\n",
       "      <td>Deepanshu Sachdeva</td>\n",
       "      <td>Deepanshu</td>\n",
       "      <td>Sachdeva</td>\n",
       "    </tr>\n",
       "    <tr>\n",
       "      <th>2</th>\n",
       "      <td>vm@gmail.com</td>\n",
       "      <td>Varun Maheshwari</td>\n",
       "      <td>Varun</td>\n",
       "      <td>Maheshwari</td>\n",
       "    </tr>\n",
       "    <tr>\n",
       "      <th>3</th>\n",
       "      <td>cah@gmail.com</td>\n",
       "      <td>Chirag A</td>\n",
       "      <td>Chirag</td>\n",
       "      <td>A</td>\n",
       "    </tr>\n",
       "    <tr>\n",
       "      <th>4</th>\n",
       "      <td>NaN</td>\n",
       "      <td>NaN</td>\n",
       "      <td>Apple</td>\n",
       "      <td>Steve</td>\n",
       "    </tr>\n",
       "    <tr>\n",
       "      <th>5</th>\n",
       "      <td>NaN</td>\n",
       "      <td>NaN</td>\n",
       "      <td>Banana</td>\n",
       "      <td>Man</td>\n",
       "    </tr>\n",
       "  </tbody>\n",
       "</table>\n",
       "</div>"
      ],
      "text/plain": [
       "                          email            FullName      first        last\n",
       "0  jigyasa.sachdeva24@gmail.com    Jigyasa Sachdeva    Jigyasa    Sachdeva\n",
       "1                  ds@gmail.com  Deepanshu Sachdeva  Deepanshu    Sachdeva\n",
       "2                  vm@gmail.com    Varun Maheshwari      Varun  Maheshwari\n",
       "3                 cah@gmail.com            Chirag A     Chirag           A\n",
       "4                           NaN                 NaN      Apple       Steve\n",
       "5                           NaN                 NaN     Banana         Man"
      ]
     },
     "execution_count": 60,
     "metadata": {},
     "output_type": "execute_result"
    }
   ],
   "source": [
    "df"
   ]
  },
  {
   "cell_type": "code",
   "execution_count": 61,
   "metadata": {},
   "outputs": [
    {
     "data": {
      "text/html": [
       "<div>\n",
       "<style scoped>\n",
       "    .dataframe tbody tr th:only-of-type {\n",
       "        vertical-align: middle;\n",
       "    }\n",
       "\n",
       "    .dataframe tbody tr th {\n",
       "        vertical-align: top;\n",
       "    }\n",
       "\n",
       "    .dataframe thead th {\n",
       "        text-align: right;\n",
       "    }\n",
       "</style>\n",
       "<table border=\"1\" class=\"dataframe\">\n",
       "  <thead>\n",
       "    <tr style=\"text-align: right;\">\n",
       "      <th></th>\n",
       "      <th>email</th>\n",
       "      <th>FullName</th>\n",
       "      <th>first</th>\n",
       "      <th>last</th>\n",
       "    </tr>\n",
       "  </thead>\n",
       "  <tbody>\n",
       "    <tr>\n",
       "      <th>0</th>\n",
       "      <td>jigyasa.sachdeva24@gmail.com</td>\n",
       "      <td>Jigyasa Sachdeva</td>\n",
       "      <td>Jigyasa</td>\n",
       "      <td>Sachdeva</td>\n",
       "    </tr>\n",
       "    <tr>\n",
       "      <th>1</th>\n",
       "      <td>ds@gmail.com</td>\n",
       "      <td>Deepanshu Sachdeva</td>\n",
       "      <td>Deepanshu</td>\n",
       "      <td>Sachdeva</td>\n",
       "    </tr>\n",
       "    <tr>\n",
       "      <th>2</th>\n",
       "      <td>vm@gmail.com</td>\n",
       "      <td>Varun Maheshwari</td>\n",
       "      <td>Varun</td>\n",
       "      <td>Maheshwari</td>\n",
       "    </tr>\n",
       "    <tr>\n",
       "      <th>3</th>\n",
       "      <td>cah@gmail.com</td>\n",
       "      <td>Chirag A</td>\n",
       "      <td>Chirag</td>\n",
       "      <td>A</td>\n",
       "    </tr>\n",
       "    <tr>\n",
       "      <th>5</th>\n",
       "      <td>NaN</td>\n",
       "      <td>NaN</td>\n",
       "      <td>Banana</td>\n",
       "      <td>Man</td>\n",
       "    </tr>\n",
       "  </tbody>\n",
       "</table>\n",
       "</div>"
      ],
      "text/plain": [
       "                          email            FullName      first        last\n",
       "0  jigyasa.sachdeva24@gmail.com    Jigyasa Sachdeva    Jigyasa    Sachdeva\n",
       "1                  ds@gmail.com  Deepanshu Sachdeva  Deepanshu    Sachdeva\n",
       "2                  vm@gmail.com    Varun Maheshwari      Varun  Maheshwari\n",
       "3                 cah@gmail.com            Chirag A     Chirag           A\n",
       "5                           NaN                 NaN     Banana         Man"
      ]
     },
     "execution_count": 61,
     "metadata": {},
     "output_type": "execute_result"
    }
   ],
   "source": [
    "df.drop(index = 4)"
   ]
  },
  {
   "cell_type": "code",
   "execution_count": 62,
   "metadata": {},
   "outputs": [],
   "source": [
    "filt = df['first']=='Banana'\n",
    "df = df.drop(index= df[filt].index)"
   ]
  },
  {
   "cell_type": "code",
   "execution_count": 63,
   "metadata": {},
   "outputs": [
    {
     "data": {
      "text/html": [
       "<div>\n",
       "<style scoped>\n",
       "    .dataframe tbody tr th:only-of-type {\n",
       "        vertical-align: middle;\n",
       "    }\n",
       "\n",
       "    .dataframe tbody tr th {\n",
       "        vertical-align: top;\n",
       "    }\n",
       "\n",
       "    .dataframe thead th {\n",
       "        text-align: right;\n",
       "    }\n",
       "</style>\n",
       "<table border=\"1\" class=\"dataframe\">\n",
       "  <thead>\n",
       "    <tr style=\"text-align: right;\">\n",
       "      <th></th>\n",
       "      <th>email</th>\n",
       "      <th>FullName</th>\n",
       "      <th>first</th>\n",
       "      <th>last</th>\n",
       "    </tr>\n",
       "  </thead>\n",
       "  <tbody>\n",
       "    <tr>\n",
       "      <th>0</th>\n",
       "      <td>jigyasa.sachdeva24@gmail.com</td>\n",
       "      <td>Jigyasa Sachdeva</td>\n",
       "      <td>Jigyasa</td>\n",
       "      <td>Sachdeva</td>\n",
       "    </tr>\n",
       "    <tr>\n",
       "      <th>1</th>\n",
       "      <td>ds@gmail.com</td>\n",
       "      <td>Deepanshu Sachdeva</td>\n",
       "      <td>Deepanshu</td>\n",
       "      <td>Sachdeva</td>\n",
       "    </tr>\n",
       "    <tr>\n",
       "      <th>2</th>\n",
       "      <td>vm@gmail.com</td>\n",
       "      <td>Varun Maheshwari</td>\n",
       "      <td>Varun</td>\n",
       "      <td>Maheshwari</td>\n",
       "    </tr>\n",
       "    <tr>\n",
       "      <th>3</th>\n",
       "      <td>cah@gmail.com</td>\n",
       "      <td>Chirag A</td>\n",
       "      <td>Chirag</td>\n",
       "      <td>A</td>\n",
       "    </tr>\n",
       "    <tr>\n",
       "      <th>4</th>\n",
       "      <td>NaN</td>\n",
       "      <td>NaN</td>\n",
       "      <td>Apple</td>\n",
       "      <td>Steve</td>\n",
       "    </tr>\n",
       "  </tbody>\n",
       "</table>\n",
       "</div>"
      ],
      "text/plain": [
       "                          email            FullName      first        last\n",
       "0  jigyasa.sachdeva24@gmail.com    Jigyasa Sachdeva    Jigyasa    Sachdeva\n",
       "1                  ds@gmail.com  Deepanshu Sachdeva  Deepanshu    Sachdeva\n",
       "2                  vm@gmail.com    Varun Maheshwari      Varun  Maheshwari\n",
       "3                 cah@gmail.com            Chirag A     Chirag           A\n",
       "4                           NaN                 NaN      Apple       Steve"
      ]
     },
     "execution_count": 63,
     "metadata": {},
     "output_type": "execute_result"
    }
   ],
   "source": [
    "df"
   ]
  },
  {
   "cell_type": "code",
   "execution_count": 64,
   "metadata": {},
   "outputs": [],
   "source": [
    "df= df.drop(4)\n"
   ]
  },
  {
   "cell_type": "code",
   "execution_count": 65,
   "metadata": {},
   "outputs": [
    {
     "data": {
      "text/html": [
       "<div>\n",
       "<style scoped>\n",
       "    .dataframe tbody tr th:only-of-type {\n",
       "        vertical-align: middle;\n",
       "    }\n",
       "\n",
       "    .dataframe tbody tr th {\n",
       "        vertical-align: top;\n",
       "    }\n",
       "\n",
       "    .dataframe thead th {\n",
       "        text-align: right;\n",
       "    }\n",
       "</style>\n",
       "<table border=\"1\" class=\"dataframe\">\n",
       "  <thead>\n",
       "    <tr style=\"text-align: right;\">\n",
       "      <th></th>\n",
       "      <th>email</th>\n",
       "      <th>FullName</th>\n",
       "      <th>first</th>\n",
       "      <th>last</th>\n",
       "    </tr>\n",
       "  </thead>\n",
       "  <tbody>\n",
       "    <tr>\n",
       "      <th>3</th>\n",
       "      <td>cah@gmail.com</td>\n",
       "      <td>Chirag A</td>\n",
       "      <td>Chirag</td>\n",
       "      <td>A</td>\n",
       "    </tr>\n",
       "    <tr>\n",
       "      <th>2</th>\n",
       "      <td>vm@gmail.com</td>\n",
       "      <td>Varun Maheshwari</td>\n",
       "      <td>Varun</td>\n",
       "      <td>Maheshwari</td>\n",
       "    </tr>\n",
       "    <tr>\n",
       "      <th>0</th>\n",
       "      <td>jigyasa.sachdeva24@gmail.com</td>\n",
       "      <td>Jigyasa Sachdeva</td>\n",
       "      <td>Jigyasa</td>\n",
       "      <td>Sachdeva</td>\n",
       "    </tr>\n",
       "    <tr>\n",
       "      <th>1</th>\n",
       "      <td>ds@gmail.com</td>\n",
       "      <td>Deepanshu Sachdeva</td>\n",
       "      <td>Deepanshu</td>\n",
       "      <td>Sachdeva</td>\n",
       "    </tr>\n",
       "    <tr>\n",
       "      <th>4</th>\n",
       "      <td>jigyasa@gmail.com</td>\n",
       "      <td>NaN</td>\n",
       "      <td>Jigyasa</td>\n",
       "      <td>Sachdeva</td>\n",
       "    </tr>\n",
       "  </tbody>\n",
       "</table>\n",
       "</div>"
      ],
      "text/plain": [
       "                          email            FullName      first        last\n",
       "3                 cah@gmail.com            Chirag A     Chirag           A\n",
       "2                  vm@gmail.com    Varun Maheshwari      Varun  Maheshwari\n",
       "0  jigyasa.sachdeva24@gmail.com    Jigyasa Sachdeva    Jigyasa    Sachdeva\n",
       "1                  ds@gmail.com  Deepanshu Sachdeva  Deepanshu    Sachdeva\n",
       "4             jigyasa@gmail.com                 NaN    Jigyasa    Sachdeva"
      ]
     },
     "execution_count": 65,
     "metadata": {},
     "output_type": "execute_result"
    }
   ],
   "source": [
    "## Sort\n",
    "df = df.append({'first':'Jigyasa', 'last':'Sachdeva', 'email':'jigyasa@gmail.com'}, ignore_index = True)\n",
    "df.sort_values(by = 'last')"
   ]
  },
  {
   "cell_type": "code",
   "execution_count": 66,
   "metadata": {},
   "outputs": [
    {
     "data": {
      "text/html": [
       "<div>\n",
       "<style scoped>\n",
       "    .dataframe tbody tr th:only-of-type {\n",
       "        vertical-align: middle;\n",
       "    }\n",
       "\n",
       "    .dataframe tbody tr th {\n",
       "        vertical-align: top;\n",
       "    }\n",
       "\n",
       "    .dataframe thead th {\n",
       "        text-align: right;\n",
       "    }\n",
       "</style>\n",
       "<table border=\"1\" class=\"dataframe\">\n",
       "  <thead>\n",
       "    <tr style=\"text-align: right;\">\n",
       "      <th></th>\n",
       "      <th>email</th>\n",
       "      <th>FullName</th>\n",
       "      <th>first</th>\n",
       "      <th>last</th>\n",
       "    </tr>\n",
       "  </thead>\n",
       "  <tbody>\n",
       "    <tr>\n",
       "      <th>0</th>\n",
       "      <td>jigyasa.sachdeva24@gmail.com</td>\n",
       "      <td>Jigyasa Sachdeva</td>\n",
       "      <td>Jigyasa</td>\n",
       "      <td>Sachdeva</td>\n",
       "    </tr>\n",
       "    <tr>\n",
       "      <th>1</th>\n",
       "      <td>ds@gmail.com</td>\n",
       "      <td>Deepanshu Sachdeva</td>\n",
       "      <td>Deepanshu</td>\n",
       "      <td>Sachdeva</td>\n",
       "    </tr>\n",
       "    <tr>\n",
       "      <th>4</th>\n",
       "      <td>jigyasa@gmail.com</td>\n",
       "      <td>NaN</td>\n",
       "      <td>Jigyasa</td>\n",
       "      <td>Sachdeva</td>\n",
       "    </tr>\n",
       "    <tr>\n",
       "      <th>2</th>\n",
       "      <td>vm@gmail.com</td>\n",
       "      <td>Varun Maheshwari</td>\n",
       "      <td>Varun</td>\n",
       "      <td>Maheshwari</td>\n",
       "    </tr>\n",
       "    <tr>\n",
       "      <th>3</th>\n",
       "      <td>cah@gmail.com</td>\n",
       "      <td>Chirag A</td>\n",
       "      <td>Chirag</td>\n",
       "      <td>A</td>\n",
       "    </tr>\n",
       "  </tbody>\n",
       "</table>\n",
       "</div>"
      ],
      "text/plain": [
       "                          email            FullName      first        last\n",
       "0  jigyasa.sachdeva24@gmail.com    Jigyasa Sachdeva    Jigyasa    Sachdeva\n",
       "1                  ds@gmail.com  Deepanshu Sachdeva  Deepanshu    Sachdeva\n",
       "4             jigyasa@gmail.com                 NaN    Jigyasa    Sachdeva\n",
       "2                  vm@gmail.com    Varun Maheshwari      Varun  Maheshwari\n",
       "3                 cah@gmail.com            Chirag A     Chirag           A"
      ]
     },
     "execution_count": 66,
     "metadata": {},
     "output_type": "execute_result"
    }
   ],
   "source": [
    "df.sort_values(by = 'last', ascending = False)"
   ]
  },
  {
   "cell_type": "code",
   "execution_count": 67,
   "metadata": {},
   "outputs": [
    {
     "data": {
      "text/html": [
       "<div>\n",
       "<style scoped>\n",
       "    .dataframe tbody tr th:only-of-type {\n",
       "        vertical-align: middle;\n",
       "    }\n",
       "\n",
       "    .dataframe tbody tr th {\n",
       "        vertical-align: top;\n",
       "    }\n",
       "\n",
       "    .dataframe thead th {\n",
       "        text-align: right;\n",
       "    }\n",
       "</style>\n",
       "<table border=\"1\" class=\"dataframe\">\n",
       "  <thead>\n",
       "    <tr style=\"text-align: right;\">\n",
       "      <th></th>\n",
       "      <th>email</th>\n",
       "      <th>FullName</th>\n",
       "      <th>first</th>\n",
       "      <th>last</th>\n",
       "    </tr>\n",
       "  </thead>\n",
       "  <tbody>\n",
       "    <tr>\n",
       "      <th>3</th>\n",
       "      <td>cah@gmail.com</td>\n",
       "      <td>Chirag A</td>\n",
       "      <td>Chirag</td>\n",
       "      <td>A</td>\n",
       "    </tr>\n",
       "    <tr>\n",
       "      <th>2</th>\n",
       "      <td>vm@gmail.com</td>\n",
       "      <td>Varun Maheshwari</td>\n",
       "      <td>Varun</td>\n",
       "      <td>Maheshwari</td>\n",
       "    </tr>\n",
       "    <tr>\n",
       "      <th>1</th>\n",
       "      <td>ds@gmail.com</td>\n",
       "      <td>Deepanshu Sachdeva</td>\n",
       "      <td>Deepanshu</td>\n",
       "      <td>Sachdeva</td>\n",
       "    </tr>\n",
       "    <tr>\n",
       "      <th>0</th>\n",
       "      <td>jigyasa.sachdeva24@gmail.com</td>\n",
       "      <td>Jigyasa Sachdeva</td>\n",
       "      <td>Jigyasa</td>\n",
       "      <td>Sachdeva</td>\n",
       "    </tr>\n",
       "    <tr>\n",
       "      <th>4</th>\n",
       "      <td>jigyasa@gmail.com</td>\n",
       "      <td>NaN</td>\n",
       "      <td>Jigyasa</td>\n",
       "      <td>Sachdeva</td>\n",
       "    </tr>\n",
       "  </tbody>\n",
       "</table>\n",
       "</div>"
      ],
      "text/plain": [
       "                          email            FullName      first        last\n",
       "3                 cah@gmail.com            Chirag A     Chirag           A\n",
       "2                  vm@gmail.com    Varun Maheshwari      Varun  Maheshwari\n",
       "1                  ds@gmail.com  Deepanshu Sachdeva  Deepanshu    Sachdeva\n",
       "0  jigyasa.sachdeva24@gmail.com    Jigyasa Sachdeva    Jigyasa    Sachdeva\n",
       "4             jigyasa@gmail.com                 NaN    Jigyasa    Sachdeva"
      ]
     },
     "execution_count": 67,
     "metadata": {},
     "output_type": "execute_result"
    }
   ],
   "source": [
    "#Sort on 2 values: last and then first name\n",
    "df.sort_values(by = ['last', 'first'])"
   ]
  },
  {
   "cell_type": "code",
   "execution_count": 68,
   "metadata": {},
   "outputs": [
    {
     "data": {
      "text/html": [
       "<div>\n",
       "<style scoped>\n",
       "    .dataframe tbody tr th:only-of-type {\n",
       "        vertical-align: middle;\n",
       "    }\n",
       "\n",
       "    .dataframe tbody tr th {\n",
       "        vertical-align: top;\n",
       "    }\n",
       "\n",
       "    .dataframe thead th {\n",
       "        text-align: right;\n",
       "    }\n",
       "</style>\n",
       "<table border=\"1\" class=\"dataframe\">\n",
       "  <thead>\n",
       "    <tr style=\"text-align: right;\">\n",
       "      <th></th>\n",
       "      <th>email</th>\n",
       "      <th>FullName</th>\n",
       "      <th>first</th>\n",
       "      <th>last</th>\n",
       "    </tr>\n",
       "  </thead>\n",
       "  <tbody>\n",
       "    <tr>\n",
       "      <th>3</th>\n",
       "      <td>cah@gmail.com</td>\n",
       "      <td>Chirag A</td>\n",
       "      <td>Chirag</td>\n",
       "      <td>A</td>\n",
       "    </tr>\n",
       "    <tr>\n",
       "      <th>2</th>\n",
       "      <td>vm@gmail.com</td>\n",
       "      <td>Varun Maheshwari</td>\n",
       "      <td>Varun</td>\n",
       "      <td>Maheshwari</td>\n",
       "    </tr>\n",
       "    <tr>\n",
       "      <th>1</th>\n",
       "      <td>ds@gmail.com</td>\n",
       "      <td>Deepanshu Sachdeva</td>\n",
       "      <td>Deepanshu</td>\n",
       "      <td>Sachdeva</td>\n",
       "    </tr>\n",
       "    <tr>\n",
       "      <th>0</th>\n",
       "      <td>jigyasa.sachdeva24@gmail.com</td>\n",
       "      <td>Jigyasa Sachdeva</td>\n",
       "      <td>Jigyasa</td>\n",
       "      <td>Sachdeva</td>\n",
       "    </tr>\n",
       "    <tr>\n",
       "      <th>4</th>\n",
       "      <td>jigyasa@gmail.com</td>\n",
       "      <td>NaN</td>\n",
       "      <td>Jigyasa</td>\n",
       "      <td>Sachdeva</td>\n",
       "    </tr>\n",
       "  </tbody>\n",
       "</table>\n",
       "</div>"
      ],
      "text/plain": [
       "                          email            FullName      first        last\n",
       "3                 cah@gmail.com            Chirag A     Chirag           A\n",
       "2                  vm@gmail.com    Varun Maheshwari      Varun  Maheshwari\n",
       "1                  ds@gmail.com  Deepanshu Sachdeva  Deepanshu    Sachdeva\n",
       "0  jigyasa.sachdeva24@gmail.com    Jigyasa Sachdeva    Jigyasa    Sachdeva\n",
       "4             jigyasa@gmail.com                 NaN    Jigyasa    Sachdeva"
      ]
     },
     "execution_count": 68,
     "metadata": {},
     "output_type": "execute_result"
    }
   ],
   "source": [
    "#Last is descending and first in ascending\n",
    "df.sort_values(by = ['last', 'first'], ascending = ['False', 'True'])"
   ]
  },
  {
   "cell_type": "code",
   "execution_count": 69,
   "metadata": {},
   "outputs": [
    {
     "data": {
      "text/html": [
       "<div>\n",
       "<style scoped>\n",
       "    .dataframe tbody tr th:only-of-type {\n",
       "        vertical-align: middle;\n",
       "    }\n",
       "\n",
       "    .dataframe tbody tr th {\n",
       "        vertical-align: top;\n",
       "    }\n",
       "\n",
       "    .dataframe thead th {\n",
       "        text-align: right;\n",
       "    }\n",
       "</style>\n",
       "<table border=\"1\" class=\"dataframe\">\n",
       "  <thead>\n",
       "    <tr style=\"text-align: right;\">\n",
       "      <th></th>\n",
       "      <th>email</th>\n",
       "      <th>FullName</th>\n",
       "      <th>first</th>\n",
       "      <th>last</th>\n",
       "    </tr>\n",
       "  </thead>\n",
       "  <tbody>\n",
       "    <tr>\n",
       "      <th>0</th>\n",
       "      <td>jigyasa.sachdeva24@gmail.com</td>\n",
       "      <td>Jigyasa Sachdeva</td>\n",
       "      <td>Jigyasa</td>\n",
       "      <td>Sachdeva</td>\n",
       "    </tr>\n",
       "    <tr>\n",
       "      <th>1</th>\n",
       "      <td>ds@gmail.com</td>\n",
       "      <td>Deepanshu Sachdeva</td>\n",
       "      <td>Deepanshu</td>\n",
       "      <td>Sachdeva</td>\n",
       "    </tr>\n",
       "    <tr>\n",
       "      <th>2</th>\n",
       "      <td>vm@gmail.com</td>\n",
       "      <td>Varun Maheshwari</td>\n",
       "      <td>Varun</td>\n",
       "      <td>Maheshwari</td>\n",
       "    </tr>\n",
       "    <tr>\n",
       "      <th>3</th>\n",
       "      <td>cah@gmail.com</td>\n",
       "      <td>Chirag A</td>\n",
       "      <td>Chirag</td>\n",
       "      <td>A</td>\n",
       "    </tr>\n",
       "    <tr>\n",
       "      <th>4</th>\n",
       "      <td>jigyasa@gmail.com</td>\n",
       "      <td>NaN</td>\n",
       "      <td>Jigyasa</td>\n",
       "      <td>Sachdeva</td>\n",
       "    </tr>\n",
       "  </tbody>\n",
       "</table>\n",
       "</div>"
      ],
      "text/plain": [
       "                          email            FullName      first        last\n",
       "0  jigyasa.sachdeva24@gmail.com    Jigyasa Sachdeva    Jigyasa    Sachdeva\n",
       "1                  ds@gmail.com  Deepanshu Sachdeva  Deepanshu    Sachdeva\n",
       "2                  vm@gmail.com    Varun Maheshwari      Varun  Maheshwari\n",
       "3                 cah@gmail.com            Chirag A     Chirag           A\n",
       "4             jigyasa@gmail.com                 NaN    Jigyasa    Sachdeva"
      ]
     },
     "execution_count": 69,
     "metadata": {},
     "output_type": "execute_result"
    }
   ],
   "source": [
    "df = df.sort_index()\n",
    "df"
   ]
  }
 ],
 "metadata": {
  "kernelspec": {
   "display_name": "Python 3",
   "language": "python",
   "name": "python3"
  },
  "language_info": {
   "codemirror_mode": {
    "name": "ipython",
    "version": 3
   },
   "file_extension": ".py",
   "mimetype": "text/x-python",
   "name": "python",
   "nbconvert_exporter": "python",
   "pygments_lexer": "ipython3",
   "version": "3.8.2"
  }
 },
 "nbformat": 4,
 "nbformat_minor": 4
}
